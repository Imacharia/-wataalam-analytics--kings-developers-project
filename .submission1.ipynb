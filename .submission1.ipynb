{
 "cells": [
  {
   "cell_type": "markdown",
   "metadata": {},
   "source": [
    "# PHASE 2 PROJECT\n",
    "**Presented by:** Group 4.4\n",
    "***"
   ]
  },
  {
   "cell_type": "markdown",
   "metadata": {},
   "source": [
    "## Dennis Mwanzia \n",
    "## Pamela Awino \n",
    "## Ian Macharia\n",
    "## Samuel Igecha\n",
    "## Pauline Njeri"
   ]
  },
  {
   "cell_type": "markdown",
   "metadata": {},
   "source": [
    "# 1.0  Project Introduction and Overview"
   ]
  },
  {
   "cell_type": "markdown",
   "metadata": {},
   "source": [
    "The aim of this project is to put into practice our newly aqcuired skills in data science to formulate and solve a real business problem. In this project, we are given a raw dataset which is the house sales prices in Northwestern County and we are supposed to formulate a real business case study and use the data to solve the business problem and provide a useful business advisory which can be used to formulate real and valuable business decisions. Unlike in phase 1, we are not given the business problem, its upon us to formulate it."
   ]
  },
  {
   "cell_type": "markdown",
   "metadata": {},
   "source": [
    "## 1.1 Data Understanding"
   ]
  },
  {
   "cell_type": "code",
   "execution_count": 1,
   "metadata": {},
   "outputs": [],
   "source": [
    "# Import libraries\n",
    "import pandas as pd\n",
    "import numpy as np\n",
    "\n",
    "import matplotlib.pyplot as plt\n",
    "import seaborn as sns\n",
    "%matplotlib inline \n",
    "plt.style.use('seaborn')\n",
    "\n",
    "import statsmodels.formula.api as smf\n",
    "import statsmodels.api as sm\n",
    "from statsmodels.formula.api import ols\n",
    "from scipy import stats\n",
    "import statsmodels.api as sm\n",
    "from statsmodels.graphics.regressionplots import plot_partial_residuals\n",
    "\n",
    "from sklearn.linear_model import LinearRegression\n",
    "from sklearn.model_selection import train_test_split\n",
    "from sklearn.metrics import r2_score, mean_squared_error\n",
    "from scipy.stats import pearsonr\n",
    "\n",
    "import pickle\n",
    "import json\n",
    "\n",
    "#import folium \n",
    "#from folium import plugins\n",
    "#from folium.plugins import HeatMap\n",
    "\n",
    "\n",
    "from my_functions import clean_data, round_bathrooms, remove_outliers, x_coord, fit_simple_linear_reg, fit_multiple_linear_reg, calculate_rmse, fit_polynomial_reg\n"
   ]
  },
  {
   "cell_type": "markdown",
   "metadata": {},
   "source": [
    "We have been provided with King County House Sales dataset found in 'kc_house_data.csv'. There is a description of columns dataset found in the md folder 'column_names.md'. Therefore, we examine the column descriptions to understand their meaning."
   ]
  },
  {
   "cell_type": "code",
   "execution_count": 2,
   "metadata": {},
   "outputs": [
    {
     "name": "stdout",
     "output_type": "stream",
     "text": [
      "# Column Names and Descriptions for King County Data Set\n",
      "* `id` - Unique identifier for a house\n",
      "* `date` - Date house was sold\n",
      "* `price` - Sale price (prediction target)\n",
      "* `bedrooms` - Number of bedrooms\n",
      "* `bathrooms` - Number of bathrooms\n",
      "* `sqft_living` - Square footage of living space in the home\n",
      "* `sqft_lot` - Square footage of the lot\n",
      "* `floors` - Number of floors (levels) in house\n",
      "* `waterfront` - Whether the house is on a waterfront\n",
      "  * Includes Duwamish, Elliott Bay, Puget Sound, Lake Union, Ship Canal, Lake Washington, Lake Sammamish, other lake, and river/slough waterfronts\n",
      "* `view` - Quality of view from house\n",
      "  * Includes views of Mt. Rainier, Olympics, Cascades, Territorial, Seattle Skyline, Puget Sound, Lake Washington, Lake Sammamish, small lake / river / creek, and other\n",
      "* `condition` - How good the overall condition of the house is. Related to maintenance of house.\n",
      "  * See the [King County Assessor Website](https://info.kingcounty.gov/assessor/esales/Glossary.aspx?type=r) for further explanation of each condition code\n",
      "* `grade` - Overall grade of the house. Related to the construction and design of the house.\n",
      "  * See the [King County Assessor Website](https://info.kingcounty.gov/assessor/esales/Glossary.aspx?type=r) for further explanation of each building grade code\n",
      "* `sqft_above` - Square footage of house apart from basement\n",
      "* `sqft_basement` - Square footage of the basement\n",
      "* `yr_built` - Year when house was built\n",
      "* `yr_renovated` - Year when house was renovated\n",
      "* `zipcode` - ZIP Code used by the United States Postal Service\n",
      "* `lat` - Latitude coordinate\n",
      "* `long` - Longitude coordinate\n",
      "* `sqft_living15` - The square footage of interior housing living space for the nearest 15 neighbors\n",
      "* `sqft_lot15` - The square footage of the land lots of the nearest 15 neighbors\n",
      "\n"
     ]
    }
   ],
   "source": [
    "#Unpacking the description \n",
    "with open('data/column_names.md', 'r') as f:\n",
    "    md_text = f.read()\n",
    "\n",
    "print(md_text)"
   ]
  },
  {
   "cell_type": "markdown",
   "metadata": {},
   "source": [
    "In this problem, we have been given a dataset that contains the following variables;\n",
    "1. id - unique identified for a house\n",
    "2. dateDate - house was sold\n",
    "3. pricePrice - is prediction target\n",
    "4. bedroomsNumber - of Bedrooms/House\n",
    "5. bathroomsNumber - of bathrooms/bedrooms\n",
    "6. sqft_livingsquare - footage of the home\n",
    "7. sqft_lotsquare - footage of the lot\n",
    "8. floorsTotal - floors (levels) in house\n",
    "9. waterfront - House which has a view to a waterfront\n",
    "10. view - Has been viewed\n",
    "11. condition - How good the condition is ( Overall )\n",
    "12. grade - overall grade given to the housing unit, based on King County grading system\n",
    "13. sqft_above - square footage of house apart from basement\n",
    "14. sqft_basement - square footage of the basement\n",
    "15. yr_built - Built Year\n",
    "16. yr_renovated - Year when house was renovated\n",
    "17. zipcode - zip\n",
    "18. lat - Latitude coordinate\n",
    "19. long - Longitude coordinate\n",
    "20. sqft_living15 - The square footage of interior housing living space for the nearest 15 neighbors\n",
    "21. sqft_lot15 - The square footage of the land lots of the nearest 15 neighbors"
   ]
  },
  {
   "cell_type": "markdown",
   "metadata": {},
   "source": [
    "## Business Understanding"
   ]
  },
  {
   "cell_type": "markdown",
   "metadata": {},
   "source": [
    "## Business Problem"
   ]
  },
  {
   "cell_type": "markdown",
   "metadata": {},
   "source": [
    "The business problem is to provide guidance to Kings Wajenzi Developers, a prospective real estate developer in King County, on the most profitable types of properties to target in the current market. The guidance will include recommendations on optimal locations, features, and time of year when homeowners are most likely to purchase properties. Our objective as junior data analysts at a Real Estate Agency is to analyze house sales data in King County and leverage the insights generated to guide the developer in selecting the most profitable properties to develop and maximize their profits. With King County's population on the rise and income stabilizing after the COVID-19 pandemic, demand for new homes in the area is at an all-time high."
   ]
  },
  {
   "cell_type": "markdown",
   "metadata": {},
   "source": [
    "## 1.2 Objectives"
   ]
  },
  {
   "cell_type": "markdown",
   "metadata": {},
   "source": [
    "1. Does the time of the year affect the price of an house? If yes, which seasons/Months are most profitable?\n",
    "2. Does Location affect prices? If yes, which locations within King county attract highest price of houses?\n",
    "3. Which features/Attributes have the highest impact on sales price of houses/properties? Which features should the developer focus on when developing their upcoming projects in King County?\n"
   ]
  },
  {
   "cell_type": "markdown",
   "metadata": {},
   "source": [
    "## Aproach"
   ]
  },
  {
   "cell_type": "markdown",
   "metadata": {},
   "source": [
    "This project follows the OCEMiN Data Science framework for data analysis\n",
    "1.\tObtain/import data\n",
    "2.\tClean/ Scrub data\n",
    "3.\tExplore data/EDA\n",
    "4.\tModel/Develop the predictive Model\n",
    "5.\tInterpret Data\n"
   ]
  },
  {
   "cell_type": "markdown",
   "metadata": {},
   "source": [
    "# 2.0 Data Exploration"
   ]
  },
  {
   "cell_type": "code",
   "execution_count": 3,
   "metadata": {},
   "outputs": [
    {
     "data": {
      "text/html": [
       "<div>\n",
       "<style scoped>\n",
       "    .dataframe tbody tr th:only-of-type {\n",
       "        vertical-align: middle;\n",
       "    }\n",
       "\n",
       "    .dataframe tbody tr th {\n",
       "        vertical-align: top;\n",
       "    }\n",
       "\n",
       "    .dataframe thead th {\n",
       "        text-align: right;\n",
       "    }\n",
       "</style>\n",
       "<table border=\"1\" class=\"dataframe\">\n",
       "  <thead>\n",
       "    <tr style=\"text-align: right;\">\n",
       "      <th></th>\n",
       "      <th>id</th>\n",
       "      <th>date</th>\n",
       "      <th>price</th>\n",
       "      <th>bedrooms</th>\n",
       "      <th>bathrooms</th>\n",
       "      <th>sqft_living</th>\n",
       "      <th>sqft_lot</th>\n",
       "      <th>floors</th>\n",
       "      <th>waterfront</th>\n",
       "      <th>view</th>\n",
       "      <th>...</th>\n",
       "      <th>grade</th>\n",
       "      <th>sqft_above</th>\n",
       "      <th>sqft_basement</th>\n",
       "      <th>yr_built</th>\n",
       "      <th>yr_renovated</th>\n",
       "      <th>zipcode</th>\n",
       "      <th>lat</th>\n",
       "      <th>long</th>\n",
       "      <th>sqft_living15</th>\n",
       "      <th>sqft_lot15</th>\n",
       "    </tr>\n",
       "  </thead>\n",
       "  <tbody>\n",
       "    <tr>\n",
       "      <th>0</th>\n",
       "      <td>7129300520</td>\n",
       "      <td>10/13/2014</td>\n",
       "      <td>221900.0</td>\n",
       "      <td>3</td>\n",
       "      <td>1.00</td>\n",
       "      <td>1180</td>\n",
       "      <td>5650</td>\n",
       "      <td>1.0</td>\n",
       "      <td>NaN</td>\n",
       "      <td>NONE</td>\n",
       "      <td>...</td>\n",
       "      <td>7 Average</td>\n",
       "      <td>1180</td>\n",
       "      <td>0.0</td>\n",
       "      <td>1955</td>\n",
       "      <td>0.0</td>\n",
       "      <td>98178</td>\n",
       "      <td>47.5112</td>\n",
       "      <td>-122.257</td>\n",
       "      <td>1340</td>\n",
       "      <td>5650</td>\n",
       "    </tr>\n",
       "    <tr>\n",
       "      <th>1</th>\n",
       "      <td>6414100192</td>\n",
       "      <td>12/9/2014</td>\n",
       "      <td>538000.0</td>\n",
       "      <td>3</td>\n",
       "      <td>2.25</td>\n",
       "      <td>2570</td>\n",
       "      <td>7242</td>\n",
       "      <td>2.0</td>\n",
       "      <td>NO</td>\n",
       "      <td>NONE</td>\n",
       "      <td>...</td>\n",
       "      <td>7 Average</td>\n",
       "      <td>2170</td>\n",
       "      <td>400.0</td>\n",
       "      <td>1951</td>\n",
       "      <td>1991.0</td>\n",
       "      <td>98125</td>\n",
       "      <td>47.7210</td>\n",
       "      <td>-122.319</td>\n",
       "      <td>1690</td>\n",
       "      <td>7639</td>\n",
       "    </tr>\n",
       "    <tr>\n",
       "      <th>2</th>\n",
       "      <td>5631500400</td>\n",
       "      <td>2/25/2015</td>\n",
       "      <td>180000.0</td>\n",
       "      <td>2</td>\n",
       "      <td>1.00</td>\n",
       "      <td>770</td>\n",
       "      <td>10000</td>\n",
       "      <td>1.0</td>\n",
       "      <td>NO</td>\n",
       "      <td>NONE</td>\n",
       "      <td>...</td>\n",
       "      <td>6 Low Average</td>\n",
       "      <td>770</td>\n",
       "      <td>0.0</td>\n",
       "      <td>1933</td>\n",
       "      <td>NaN</td>\n",
       "      <td>98028</td>\n",
       "      <td>47.7379</td>\n",
       "      <td>-122.233</td>\n",
       "      <td>2720</td>\n",
       "      <td>8062</td>\n",
       "    </tr>\n",
       "    <tr>\n",
       "      <th>3</th>\n",
       "      <td>2487200875</td>\n",
       "      <td>12/9/2014</td>\n",
       "      <td>604000.0</td>\n",
       "      <td>4</td>\n",
       "      <td>3.00</td>\n",
       "      <td>1960</td>\n",
       "      <td>5000</td>\n",
       "      <td>1.0</td>\n",
       "      <td>NO</td>\n",
       "      <td>NONE</td>\n",
       "      <td>...</td>\n",
       "      <td>7 Average</td>\n",
       "      <td>1050</td>\n",
       "      <td>910.0</td>\n",
       "      <td>1965</td>\n",
       "      <td>0.0</td>\n",
       "      <td>98136</td>\n",
       "      <td>47.5208</td>\n",
       "      <td>-122.393</td>\n",
       "      <td>1360</td>\n",
       "      <td>5000</td>\n",
       "    </tr>\n",
       "    <tr>\n",
       "      <th>4</th>\n",
       "      <td>1954400510</td>\n",
       "      <td>2/18/2015</td>\n",
       "      <td>510000.0</td>\n",
       "      <td>3</td>\n",
       "      <td>2.00</td>\n",
       "      <td>1680</td>\n",
       "      <td>8080</td>\n",
       "      <td>1.0</td>\n",
       "      <td>NO</td>\n",
       "      <td>NONE</td>\n",
       "      <td>...</td>\n",
       "      <td>8 Good</td>\n",
       "      <td>1680</td>\n",
       "      <td>0.0</td>\n",
       "      <td>1987</td>\n",
       "      <td>0.0</td>\n",
       "      <td>98074</td>\n",
       "      <td>47.6168</td>\n",
       "      <td>-122.045</td>\n",
       "      <td>1800</td>\n",
       "      <td>7503</td>\n",
       "    </tr>\n",
       "    <tr>\n",
       "      <th>...</th>\n",
       "      <td>...</td>\n",
       "      <td>...</td>\n",
       "      <td>...</td>\n",
       "      <td>...</td>\n",
       "      <td>...</td>\n",
       "      <td>...</td>\n",
       "      <td>...</td>\n",
       "      <td>...</td>\n",
       "      <td>...</td>\n",
       "      <td>...</td>\n",
       "      <td>...</td>\n",
       "      <td>...</td>\n",
       "      <td>...</td>\n",
       "      <td>...</td>\n",
       "      <td>...</td>\n",
       "      <td>...</td>\n",
       "      <td>...</td>\n",
       "      <td>...</td>\n",
       "      <td>...</td>\n",
       "      <td>...</td>\n",
       "      <td>...</td>\n",
       "    </tr>\n",
       "    <tr>\n",
       "      <th>21592</th>\n",
       "      <td>263000018</td>\n",
       "      <td>5/21/2014</td>\n",
       "      <td>360000.0</td>\n",
       "      <td>3</td>\n",
       "      <td>2.50</td>\n",
       "      <td>1530</td>\n",
       "      <td>1131</td>\n",
       "      <td>3.0</td>\n",
       "      <td>NO</td>\n",
       "      <td>NONE</td>\n",
       "      <td>...</td>\n",
       "      <td>8 Good</td>\n",
       "      <td>1530</td>\n",
       "      <td>0.0</td>\n",
       "      <td>2009</td>\n",
       "      <td>0.0</td>\n",
       "      <td>98103</td>\n",
       "      <td>47.6993</td>\n",
       "      <td>-122.346</td>\n",
       "      <td>1530</td>\n",
       "      <td>1509</td>\n",
       "    </tr>\n",
       "    <tr>\n",
       "      <th>21593</th>\n",
       "      <td>6600060120</td>\n",
       "      <td>2/23/2015</td>\n",
       "      <td>400000.0</td>\n",
       "      <td>4</td>\n",
       "      <td>2.50</td>\n",
       "      <td>2310</td>\n",
       "      <td>5813</td>\n",
       "      <td>2.0</td>\n",
       "      <td>NO</td>\n",
       "      <td>NONE</td>\n",
       "      <td>...</td>\n",
       "      <td>8 Good</td>\n",
       "      <td>2310</td>\n",
       "      <td>0.0</td>\n",
       "      <td>2014</td>\n",
       "      <td>0.0</td>\n",
       "      <td>98146</td>\n",
       "      <td>47.5107</td>\n",
       "      <td>-122.362</td>\n",
       "      <td>1830</td>\n",
       "      <td>7200</td>\n",
       "    </tr>\n",
       "    <tr>\n",
       "      <th>21594</th>\n",
       "      <td>1523300141</td>\n",
       "      <td>6/23/2014</td>\n",
       "      <td>402101.0</td>\n",
       "      <td>2</td>\n",
       "      <td>0.75</td>\n",
       "      <td>1020</td>\n",
       "      <td>1350</td>\n",
       "      <td>2.0</td>\n",
       "      <td>NO</td>\n",
       "      <td>NONE</td>\n",
       "      <td>...</td>\n",
       "      <td>7 Average</td>\n",
       "      <td>1020</td>\n",
       "      <td>0.0</td>\n",
       "      <td>2009</td>\n",
       "      <td>0.0</td>\n",
       "      <td>98144</td>\n",
       "      <td>47.5944</td>\n",
       "      <td>-122.299</td>\n",
       "      <td>1020</td>\n",
       "      <td>2007</td>\n",
       "    </tr>\n",
       "    <tr>\n",
       "      <th>21595</th>\n",
       "      <td>291310100</td>\n",
       "      <td>1/16/2015</td>\n",
       "      <td>400000.0</td>\n",
       "      <td>3</td>\n",
       "      <td>2.50</td>\n",
       "      <td>1600</td>\n",
       "      <td>2388</td>\n",
       "      <td>2.0</td>\n",
       "      <td>NaN</td>\n",
       "      <td>NONE</td>\n",
       "      <td>...</td>\n",
       "      <td>8 Good</td>\n",
       "      <td>1600</td>\n",
       "      <td>0.0</td>\n",
       "      <td>2004</td>\n",
       "      <td>0.0</td>\n",
       "      <td>98027</td>\n",
       "      <td>47.5345</td>\n",
       "      <td>-122.069</td>\n",
       "      <td>1410</td>\n",
       "      <td>1287</td>\n",
       "    </tr>\n",
       "    <tr>\n",
       "      <th>21596</th>\n",
       "      <td>1523300157</td>\n",
       "      <td>10/15/2014</td>\n",
       "      <td>325000.0</td>\n",
       "      <td>2</td>\n",
       "      <td>0.75</td>\n",
       "      <td>1020</td>\n",
       "      <td>1076</td>\n",
       "      <td>2.0</td>\n",
       "      <td>NO</td>\n",
       "      <td>NONE</td>\n",
       "      <td>...</td>\n",
       "      <td>7 Average</td>\n",
       "      <td>1020</td>\n",
       "      <td>0.0</td>\n",
       "      <td>2008</td>\n",
       "      <td>0.0</td>\n",
       "      <td>98144</td>\n",
       "      <td>47.5941</td>\n",
       "      <td>-122.299</td>\n",
       "      <td>1020</td>\n",
       "      <td>1357</td>\n",
       "    </tr>\n",
       "  </tbody>\n",
       "</table>\n",
       "<p>21597 rows × 21 columns</p>\n",
       "</div>"
      ],
      "text/plain": [
       "               id        date     price  bedrooms  bathrooms  sqft_living  \\\n",
       "0      7129300520  10/13/2014  221900.0         3       1.00         1180   \n",
       "1      6414100192   12/9/2014  538000.0         3       2.25         2570   \n",
       "2      5631500400   2/25/2015  180000.0         2       1.00          770   \n",
       "3      2487200875   12/9/2014  604000.0         4       3.00         1960   \n",
       "4      1954400510   2/18/2015  510000.0         3       2.00         1680   \n",
       "...           ...         ...       ...       ...        ...          ...   \n",
       "21592   263000018   5/21/2014  360000.0         3       2.50         1530   \n",
       "21593  6600060120   2/23/2015  400000.0         4       2.50         2310   \n",
       "21594  1523300141   6/23/2014  402101.0         2       0.75         1020   \n",
       "21595   291310100   1/16/2015  400000.0         3       2.50         1600   \n",
       "21596  1523300157  10/15/2014  325000.0         2       0.75         1020   \n",
       "\n",
       "       sqft_lot  floors waterfront  view  ...          grade sqft_above  \\\n",
       "0          5650     1.0        NaN  NONE  ...      7 Average       1180   \n",
       "1          7242     2.0         NO  NONE  ...      7 Average       2170   \n",
       "2         10000     1.0         NO  NONE  ...  6 Low Average        770   \n",
       "3          5000     1.0         NO  NONE  ...      7 Average       1050   \n",
       "4          8080     1.0         NO  NONE  ...         8 Good       1680   \n",
       "...         ...     ...        ...   ...  ...            ...        ...   \n",
       "21592      1131     3.0         NO  NONE  ...         8 Good       1530   \n",
       "21593      5813     2.0         NO  NONE  ...         8 Good       2310   \n",
       "21594      1350     2.0         NO  NONE  ...      7 Average       1020   \n",
       "21595      2388     2.0        NaN  NONE  ...         8 Good       1600   \n",
       "21596      1076     2.0         NO  NONE  ...      7 Average       1020   \n",
       "\n",
       "       sqft_basement yr_built  yr_renovated  zipcode      lat     long  \\\n",
       "0                0.0     1955           0.0    98178  47.5112 -122.257   \n",
       "1              400.0     1951        1991.0    98125  47.7210 -122.319   \n",
       "2                0.0     1933           NaN    98028  47.7379 -122.233   \n",
       "3              910.0     1965           0.0    98136  47.5208 -122.393   \n",
       "4                0.0     1987           0.0    98074  47.6168 -122.045   \n",
       "...              ...      ...           ...      ...      ...      ...   \n",
       "21592            0.0     2009           0.0    98103  47.6993 -122.346   \n",
       "21593            0.0     2014           0.0    98146  47.5107 -122.362   \n",
       "21594            0.0     2009           0.0    98144  47.5944 -122.299   \n",
       "21595            0.0     2004           0.0    98027  47.5345 -122.069   \n",
       "21596            0.0     2008           0.0    98144  47.5941 -122.299   \n",
       "\n",
       "       sqft_living15  sqft_lot15  \n",
       "0               1340        5650  \n",
       "1               1690        7639  \n",
       "2               2720        8062  \n",
       "3               1360        5000  \n",
       "4               1800        7503  \n",
       "...              ...         ...  \n",
       "21592           1530        1509  \n",
       "21593           1830        7200  \n",
       "21594           1020        2007  \n",
       "21595           1410        1287  \n",
       "21596           1020        1357  \n",
       "\n",
       "[21597 rows x 21 columns]"
      ]
     },
     "execution_count": 3,
     "metadata": {},
     "output_type": "execute_result"
    }
   ],
   "source": [
    "df = pd.read_csv('data/kc_house_data.csv')\n",
    "df"
   ]
  },
  {
   "cell_type": "code",
   "execution_count": 4,
   "metadata": {},
   "outputs": [
    {
     "data": {
      "text/plain": [
       "(21597, 21)"
      ]
     },
     "execution_count": 4,
     "metadata": {},
     "output_type": "execute_result"
    }
   ],
   "source": [
    "df.shape"
   ]
  },
  {
   "cell_type": "markdown",
   "metadata": {},
   "source": [
    "The dataset has 21597 rows and 21 columns"
   ]
  },
  {
   "cell_type": "code",
   "execution_count": 5,
   "metadata": {},
   "outputs": [
    {
     "name": "stdout",
     "output_type": "stream",
     "text": [
      "<class 'pandas.core.frame.DataFrame'>\n",
      "RangeIndex: 21597 entries, 0 to 21596\n",
      "Data columns (total 21 columns):\n",
      " #   Column         Non-Null Count  Dtype  \n",
      "---  ------         --------------  -----  \n",
      " 0   id             21597 non-null  int64  \n",
      " 1   date           21597 non-null  object \n",
      " 2   price          21597 non-null  float64\n",
      " 3   bedrooms       21597 non-null  int64  \n",
      " 4   bathrooms      21597 non-null  float64\n",
      " 5   sqft_living    21597 non-null  int64  \n",
      " 6   sqft_lot       21597 non-null  int64  \n",
      " 7   floors         21597 non-null  float64\n",
      " 8   waterfront     19221 non-null  object \n",
      " 9   view           21534 non-null  object \n",
      " 10  condition      21597 non-null  object \n",
      " 11  grade          21597 non-null  object \n",
      " 12  sqft_above     21597 non-null  int64  \n",
      " 13  sqft_basement  21597 non-null  object \n",
      " 14  yr_built       21597 non-null  int64  \n",
      " 15  yr_renovated   17755 non-null  float64\n",
      " 16  zipcode        21597 non-null  int64  \n",
      " 17  lat            21597 non-null  float64\n",
      " 18  long           21597 non-null  float64\n",
      " 19  sqft_living15  21597 non-null  int64  \n",
      " 20  sqft_lot15     21597 non-null  int64  \n",
      "dtypes: float64(6), int64(9), object(6)\n",
      "memory usage: 3.5+ MB\n"
     ]
    }
   ],
   "source": [
    "df.info()"
   ]
  },
  {
   "cell_type": "markdown",
   "metadata": {},
   "source": [
    "The whole dataset is stored as pandas dataframe. We have three types of datatypes for columns which are integers, floats and objects. Since we are interested in running a linear regression model, we would like all the columns, to be numeric datatypes. However, some columns like date, waterfront, view, condition, grade, sqft_basement are objects and most likely categorical variables and will need to be transformed to dummy variables using one-hote encoding function of python. Intergers will also need to be examined to determine if they are binary variables or numeric data types. \n",
    "Its very important to note that sqft_basement should be of value type float so we will need to investigate that column.\n",
    "Date column need to be transformed to date and year columns."
   ]
  },
  {
   "cell_type": "markdown",
   "metadata": {},
   "source": [
    "## 3.0 Data Cleaning"
   ]
  },
  {
   "cell_type": "code",
   "execution_count": 6,
   "metadata": {
    "scrolled": true
   },
   "outputs": [
    {
     "data": {
      "text/plain": [
       "id                  0\n",
       "date                0\n",
       "price               0\n",
       "bedrooms            0\n",
       "bathrooms           0\n",
       "sqft_living         0\n",
       "sqft_lot            0\n",
       "floors              0\n",
       "waterfront       2376\n",
       "view               63\n",
       "condition           0\n",
       "grade               0\n",
       "sqft_above          0\n",
       "sqft_basement       0\n",
       "yr_built            0\n",
       "yr_renovated     3842\n",
       "zipcode             0\n",
       "lat                 0\n",
       "long                0\n",
       "sqft_living15       0\n",
       "sqft_lot15          0\n",
       "dtype: int64"
      ]
     },
     "execution_count": 6,
     "metadata": {},
     "output_type": "execute_result"
    }
   ],
   "source": [
    "#Checking for how many missing values\n",
    "df.isna().sum()"
   ]
  },
  {
   "cell_type": "markdown",
   "metadata": {},
   "source": [
    "Waterfront, view and year renovated have missing values. Lets check the percentage of missing values in the dataset.b"
   ]
  },
  {
   "cell_type": "code",
   "execution_count": 7,
   "metadata": {},
   "outputs": [
    {
     "name": "stdout",
     "output_type": "stream",
     "text": [
      "waterfront:11.0\n",
      "view:0.29\n",
      "yr_renovated:17.79\n"
     ]
    }
   ],
   "source": [
    "# Get percentage of missing values\n",
    "for col in ['waterfront', 'view', 'yr_renovated']:\n",
    "    percent_missing = df[col].isnull().sum() * 100 / len(df)\n",
    "    print(f\"{col}:{round(percent_missing,2)}\")"
   ]
  },
  {
   "cell_type": "markdown",
   "metadata": {},
   "source": [
    "Waterfront, view and year renovated have 11.0%, 0.29%, and 17.79% respectively of missing data. Waterfront, and view are objects and therefore, we can replace the missing values with the mode while yr_renovated is a integer and hence we will replace the missing values with zeros. This is because we assumed that for any missing values, there was no renovation that was undertaken for that specific unit. "
   ]
  },
  {
   "cell_type": "code",
   "execution_count": 8,
   "metadata": {
    "scrolled": true
   },
   "outputs": [
    {
     "name": "stdout",
     "output_type": "stream",
     "text": [
      "0    NO\n",
      "dtype: object\n",
      "0    NONE\n",
      "dtype: object\n"
     ]
    }
   ],
   "source": [
    "print (df['waterfront'].mode())\n",
    "print (df['view'].mode())"
   ]
  },
  {
   "cell_type": "code",
   "execution_count": 9,
   "metadata": {},
   "outputs": [
    {
     "data": {
      "text/plain": [
       "0.0       12826\n",
       "?           454\n",
       "600.0       217\n",
       "500.0       209\n",
       "700.0       208\n",
       "          ...  \n",
       "1920.0        1\n",
       "3480.0        1\n",
       "2730.0        1\n",
       "2720.0        1\n",
       "248.0         1\n",
       "Name: sqft_basement, Length: 304, dtype: int64"
      ]
     },
     "execution_count": 9,
     "metadata": {},
     "output_type": "execute_result"
    }
   ],
   "source": [
    "# Investigate sqft_basement column\n",
    "df['sqft_basement'].value_counts()"
   ]
  },
  {
   "cell_type": "code",
   "execution_count": 10,
   "metadata": {
    "scrolled": true
   },
   "outputs": [
    {
     "data": {
      "text/plain": [
       "count     21597\n",
       "unique      304\n",
       "top         0.0\n",
       "freq      12826\n",
       "Name: sqft_basement, dtype: object"
      ]
     },
     "execution_count": 10,
     "metadata": {},
     "output_type": "execute_result"
    }
   ],
   "source": [
    "# Get summary statistics for sqft_basement\n",
    "df['sqft_basement'].describe()"
   ]
  },
  {
   "cell_type": "markdown",
   "metadata": {},
   "source": [
    "There is a significant number of entries with ? as value for sqft_basement. Moreover, more than half of entries have a value of 0 indicating there is no basement. We will replace the placeholder with 0. "
   ]
  },
  {
   "cell_type": "code",
   "execution_count": 11,
   "metadata": {},
   "outputs": [
    {
     "data": {
      "text/html": [
       "<div>\n",
       "<style scoped>\n",
       "    .dataframe tbody tr th:only-of-type {\n",
       "        vertical-align: middle;\n",
       "    }\n",
       "\n",
       "    .dataframe tbody tr th {\n",
       "        vertical-align: top;\n",
       "    }\n",
       "\n",
       "    .dataframe thead th {\n",
       "        text-align: right;\n",
       "    }\n",
       "</style>\n",
       "<table border=\"1\" class=\"dataframe\">\n",
       "  <thead>\n",
       "    <tr style=\"text-align: right;\">\n",
       "      <th></th>\n",
       "      <th>price</th>\n",
       "      <th>bedrooms</th>\n",
       "      <th>bathrooms</th>\n",
       "      <th>sqft_living</th>\n",
       "      <th>sqft_lot</th>\n",
       "      <th>floors</th>\n",
       "      <th>waterfront</th>\n",
       "      <th>view</th>\n",
       "      <th>condition</th>\n",
       "      <th>grade</th>\n",
       "      <th>...</th>\n",
       "      <th>yr_renovated</th>\n",
       "      <th>zipcode</th>\n",
       "      <th>lat</th>\n",
       "      <th>long</th>\n",
       "      <th>sqft_living15</th>\n",
       "      <th>sqft_lot15</th>\n",
       "      <th>month_sold</th>\n",
       "      <th>year_sold</th>\n",
       "      <th>age</th>\n",
       "      <th>renovated</th>\n",
       "    </tr>\n",
       "  </thead>\n",
       "  <tbody>\n",
       "    <tr>\n",
       "      <th>0</th>\n",
       "      <td>221900.0</td>\n",
       "      <td>3</td>\n",
       "      <td>1.00</td>\n",
       "      <td>1180</td>\n",
       "      <td>5650</td>\n",
       "      <td>1.0</td>\n",
       "      <td>0</td>\n",
       "      <td>0</td>\n",
       "      <td>0</td>\n",
       "      <td>0</td>\n",
       "      <td>...</td>\n",
       "      <td>0.0</td>\n",
       "      <td>98178</td>\n",
       "      <td>47.5112</td>\n",
       "      <td>-122.257</td>\n",
       "      <td>1340</td>\n",
       "      <td>5650</td>\n",
       "      <td>10</td>\n",
       "      <td>2014</td>\n",
       "      <td>60</td>\n",
       "      <td>0</td>\n",
       "    </tr>\n",
       "    <tr>\n",
       "      <th>1</th>\n",
       "      <td>538000.0</td>\n",
       "      <td>3</td>\n",
       "      <td>2.25</td>\n",
       "      <td>2570</td>\n",
       "      <td>7242</td>\n",
       "      <td>2.0</td>\n",
       "      <td>0</td>\n",
       "      <td>0</td>\n",
       "      <td>0</td>\n",
       "      <td>0</td>\n",
       "      <td>...</td>\n",
       "      <td>1991.0</td>\n",
       "      <td>98125</td>\n",
       "      <td>47.7210</td>\n",
       "      <td>-122.319</td>\n",
       "      <td>1690</td>\n",
       "      <td>7639</td>\n",
       "      <td>12</td>\n",
       "      <td>2014</td>\n",
       "      <td>64</td>\n",
       "      <td>0</td>\n",
       "    </tr>\n",
       "    <tr>\n",
       "      <th>2</th>\n",
       "      <td>180000.0</td>\n",
       "      <td>2</td>\n",
       "      <td>1.00</td>\n",
       "      <td>770</td>\n",
       "      <td>10000</td>\n",
       "      <td>1.0</td>\n",
       "      <td>0</td>\n",
       "      <td>0</td>\n",
       "      <td>0</td>\n",
       "      <td>0</td>\n",
       "      <td>...</td>\n",
       "      <td>0.0</td>\n",
       "      <td>98028</td>\n",
       "      <td>47.7379</td>\n",
       "      <td>-122.233</td>\n",
       "      <td>2720</td>\n",
       "      <td>8062</td>\n",
       "      <td>2</td>\n",
       "      <td>2015</td>\n",
       "      <td>82</td>\n",
       "      <td>0</td>\n",
       "    </tr>\n",
       "    <tr>\n",
       "      <th>3</th>\n",
       "      <td>604000.0</td>\n",
       "      <td>4</td>\n",
       "      <td>3.00</td>\n",
       "      <td>1960</td>\n",
       "      <td>5000</td>\n",
       "      <td>1.0</td>\n",
       "      <td>0</td>\n",
       "      <td>0</td>\n",
       "      <td>0</td>\n",
       "      <td>0</td>\n",
       "      <td>...</td>\n",
       "      <td>0.0</td>\n",
       "      <td>98136</td>\n",
       "      <td>47.5208</td>\n",
       "      <td>-122.393</td>\n",
       "      <td>1360</td>\n",
       "      <td>5000</td>\n",
       "      <td>12</td>\n",
       "      <td>2014</td>\n",
       "      <td>50</td>\n",
       "      <td>0</td>\n",
       "    </tr>\n",
       "    <tr>\n",
       "      <th>4</th>\n",
       "      <td>510000.0</td>\n",
       "      <td>3</td>\n",
       "      <td>2.00</td>\n",
       "      <td>1680</td>\n",
       "      <td>8080</td>\n",
       "      <td>1.0</td>\n",
       "      <td>0</td>\n",
       "      <td>0</td>\n",
       "      <td>0</td>\n",
       "      <td>0</td>\n",
       "      <td>...</td>\n",
       "      <td>0.0</td>\n",
       "      <td>98074</td>\n",
       "      <td>47.6168</td>\n",
       "      <td>-122.045</td>\n",
       "      <td>1800</td>\n",
       "      <td>7503</td>\n",
       "      <td>2</td>\n",
       "      <td>2015</td>\n",
       "      <td>28</td>\n",
       "      <td>0</td>\n",
       "    </tr>\n",
       "    <tr>\n",
       "      <th>...</th>\n",
       "      <td>...</td>\n",
       "      <td>...</td>\n",
       "      <td>...</td>\n",
       "      <td>...</td>\n",
       "      <td>...</td>\n",
       "      <td>...</td>\n",
       "      <td>...</td>\n",
       "      <td>...</td>\n",
       "      <td>...</td>\n",
       "      <td>...</td>\n",
       "      <td>...</td>\n",
       "      <td>...</td>\n",
       "      <td>...</td>\n",
       "      <td>...</td>\n",
       "      <td>...</td>\n",
       "      <td>...</td>\n",
       "      <td>...</td>\n",
       "      <td>...</td>\n",
       "      <td>...</td>\n",
       "      <td>...</td>\n",
       "      <td>...</td>\n",
       "    </tr>\n",
       "    <tr>\n",
       "      <th>21592</th>\n",
       "      <td>360000.0</td>\n",
       "      <td>3</td>\n",
       "      <td>2.50</td>\n",
       "      <td>1530</td>\n",
       "      <td>1131</td>\n",
       "      <td>3.0</td>\n",
       "      <td>0</td>\n",
       "      <td>0</td>\n",
       "      <td>0</td>\n",
       "      <td>0</td>\n",
       "      <td>...</td>\n",
       "      <td>0.0</td>\n",
       "      <td>98103</td>\n",
       "      <td>47.6993</td>\n",
       "      <td>-122.346</td>\n",
       "      <td>1530</td>\n",
       "      <td>1509</td>\n",
       "      <td>5</td>\n",
       "      <td>2014</td>\n",
       "      <td>6</td>\n",
       "      <td>0</td>\n",
       "    </tr>\n",
       "    <tr>\n",
       "      <th>21593</th>\n",
       "      <td>400000.0</td>\n",
       "      <td>4</td>\n",
       "      <td>2.50</td>\n",
       "      <td>2310</td>\n",
       "      <td>5813</td>\n",
       "      <td>2.0</td>\n",
       "      <td>0</td>\n",
       "      <td>0</td>\n",
       "      <td>0</td>\n",
       "      <td>0</td>\n",
       "      <td>...</td>\n",
       "      <td>0.0</td>\n",
       "      <td>98146</td>\n",
       "      <td>47.5107</td>\n",
       "      <td>-122.362</td>\n",
       "      <td>1830</td>\n",
       "      <td>7200</td>\n",
       "      <td>2</td>\n",
       "      <td>2015</td>\n",
       "      <td>1</td>\n",
       "      <td>1</td>\n",
       "    </tr>\n",
       "    <tr>\n",
       "      <th>21594</th>\n",
       "      <td>402101.0</td>\n",
       "      <td>2</td>\n",
       "      <td>0.75</td>\n",
       "      <td>1020</td>\n",
       "      <td>1350</td>\n",
       "      <td>2.0</td>\n",
       "      <td>0</td>\n",
       "      <td>0</td>\n",
       "      <td>0</td>\n",
       "      <td>0</td>\n",
       "      <td>...</td>\n",
       "      <td>0.0</td>\n",
       "      <td>98144</td>\n",
       "      <td>47.5944</td>\n",
       "      <td>-122.299</td>\n",
       "      <td>1020</td>\n",
       "      <td>2007</td>\n",
       "      <td>6</td>\n",
       "      <td>2014</td>\n",
       "      <td>6</td>\n",
       "      <td>0</td>\n",
       "    </tr>\n",
       "    <tr>\n",
       "      <th>21595</th>\n",
       "      <td>400000.0</td>\n",
       "      <td>3</td>\n",
       "      <td>2.50</td>\n",
       "      <td>1600</td>\n",
       "      <td>2388</td>\n",
       "      <td>2.0</td>\n",
       "      <td>0</td>\n",
       "      <td>0</td>\n",
       "      <td>0</td>\n",
       "      <td>0</td>\n",
       "      <td>...</td>\n",
       "      <td>0.0</td>\n",
       "      <td>98027</td>\n",
       "      <td>47.5345</td>\n",
       "      <td>-122.069</td>\n",
       "      <td>1410</td>\n",
       "      <td>1287</td>\n",
       "      <td>1</td>\n",
       "      <td>2015</td>\n",
       "      <td>11</td>\n",
       "      <td>0</td>\n",
       "    </tr>\n",
       "    <tr>\n",
       "      <th>21596</th>\n",
       "      <td>325000.0</td>\n",
       "      <td>2</td>\n",
       "      <td>0.75</td>\n",
       "      <td>1020</td>\n",
       "      <td>1076</td>\n",
       "      <td>2.0</td>\n",
       "      <td>0</td>\n",
       "      <td>0</td>\n",
       "      <td>0</td>\n",
       "      <td>0</td>\n",
       "      <td>...</td>\n",
       "      <td>0.0</td>\n",
       "      <td>98144</td>\n",
       "      <td>47.5941</td>\n",
       "      <td>-122.299</td>\n",
       "      <td>1020</td>\n",
       "      <td>1357</td>\n",
       "      <td>10</td>\n",
       "      <td>2014</td>\n",
       "      <td>7</td>\n",
       "      <td>0</td>\n",
       "    </tr>\n",
       "  </tbody>\n",
       "</table>\n",
       "<p>21597 rows × 22 columns</p>\n",
       "</div>"
      ],
      "text/plain": [
       "          price  bedrooms  bathrooms  sqft_living  sqft_lot  floors  \\\n",
       "0      221900.0         3       1.00         1180      5650     1.0   \n",
       "1      538000.0         3       2.25         2570      7242     2.0   \n",
       "2      180000.0         2       1.00          770     10000     1.0   \n",
       "3      604000.0         4       3.00         1960      5000     1.0   \n",
       "4      510000.0         3       2.00         1680      8080     1.0   \n",
       "...         ...       ...        ...          ...       ...     ...   \n",
       "21592  360000.0         3       2.50         1530      1131     3.0   \n",
       "21593  400000.0         4       2.50         2310      5813     2.0   \n",
       "21594  402101.0         2       0.75         1020      1350     2.0   \n",
       "21595  400000.0         3       2.50         1600      2388     2.0   \n",
       "21596  325000.0         2       0.75         1020      1076     2.0   \n",
       "\n",
       "      waterfront view condition grade  ...  yr_renovated  zipcode      lat  \\\n",
       "0              0    0         0     0  ...           0.0    98178  47.5112   \n",
       "1              0    0         0     0  ...        1991.0    98125  47.7210   \n",
       "2              0    0         0     0  ...           0.0    98028  47.7379   \n",
       "3              0    0         0     0  ...           0.0    98136  47.5208   \n",
       "4              0    0         0     0  ...           0.0    98074  47.6168   \n",
       "...          ...  ...       ...   ...  ...           ...      ...      ...   \n",
       "21592          0    0         0     0  ...           0.0    98103  47.6993   \n",
       "21593          0    0         0     0  ...           0.0    98146  47.5107   \n",
       "21594          0    0         0     0  ...           0.0    98144  47.5944   \n",
       "21595          0    0         0     0  ...           0.0    98027  47.5345   \n",
       "21596          0    0         0     0  ...           0.0    98144  47.5941   \n",
       "\n",
       "          long  sqft_living15  sqft_lot15  month_sold  year_sold  age  \\\n",
       "0     -122.257           1340        5650          10       2014   60   \n",
       "1     -122.319           1690        7639          12       2014   64   \n",
       "2     -122.233           2720        8062           2       2015   82   \n",
       "3     -122.393           1360        5000          12       2014   50   \n",
       "4     -122.045           1800        7503           2       2015   28   \n",
       "...        ...            ...         ...         ...        ...  ...   \n",
       "21592 -122.346           1530        1509           5       2014    6   \n",
       "21593 -122.362           1830        7200           2       2015    1   \n",
       "21594 -122.299           1020        2007           6       2014    6   \n",
       "21595 -122.069           1410        1287           1       2015   11   \n",
       "21596 -122.299           1020        1357          10       2014    7   \n",
       "\n",
       "       renovated  \n",
       "0              0  \n",
       "1              0  \n",
       "2              0  \n",
       "3              0  \n",
       "4              0  \n",
       "...          ...  \n",
       "21592          0  \n",
       "21593          1  \n",
       "21594          0  \n",
       "21595          0  \n",
       "21596          0  \n",
       "\n",
       "[21597 rows x 22 columns]"
      ]
     },
     "execution_count": 11,
     "metadata": {},
     "output_type": "execute_result"
    }
   ],
   "source": [
    "df=clean_data(df)\n",
    "df"
   ]
  },
  {
   "cell_type": "code",
   "execution_count": 12,
   "metadata": {
    "scrolled": false
   },
   "outputs": [
    {
     "data": {
      "text/plain": [
       "price            0\n",
       "bedrooms         0\n",
       "bathrooms        0\n",
       "sqft_living      0\n",
       "sqft_lot         0\n",
       "floors           0\n",
       "waterfront       0\n",
       "view             0\n",
       "condition        0\n",
       "grade            0\n",
       "sqft_above       0\n",
       "sqft_basement    0\n",
       "yr_renovated     0\n",
       "zipcode          0\n",
       "lat              0\n",
       "long             0\n",
       "sqft_living15    0\n",
       "sqft_lot15       0\n",
       "month_sold       0\n",
       "year_sold        0\n",
       "age              0\n",
       "renovated        0\n",
       "dtype: int64"
      ]
     },
     "execution_count": 12,
     "metadata": {},
     "output_type": "execute_result"
    }
   ],
   "source": [
    "# check if all missing values have been resolved\n",
    "df.isna().sum()"
   ]
  },
  {
   "cell_type": "markdown",
   "metadata": {},
   "source": [
    "We nolonger have any missing values, therefore we proceed to check for duplicates."
   ]
  },
  {
   "cell_type": "code",
   "execution_count": 13,
   "metadata": {},
   "outputs": [
    {
     "data": {
      "text/plain": [
       "2"
      ]
     },
     "execution_count": 13,
     "metadata": {},
     "output_type": "execute_result"
    }
   ],
   "source": [
    "#checking for duplicates\n",
    "#duplicates = df[df.duplicated()]\n",
    "df.duplicated().sum()\n",
    "#print(len(duplicates))"
   ]
  },
  {
   "cell_type": "markdown",
   "metadata": {},
   "source": [
    "We dont have any duplicates and therefore we can proceed to investigate the integer and object data types and perform the necessary transformations for our multiple regression model."
   ]
  },
  {
   "cell_type": "code",
   "execution_count": 14,
   "metadata": {
    "scrolled": true
   },
   "outputs": [
    {
     "name": "stdout",
     "output_type": "stream",
     "text": [
      "<class 'pandas.core.frame.DataFrame'>\n",
      "RangeIndex: 21597 entries, 0 to 21596\n",
      "Data columns (total 22 columns):\n",
      " #   Column         Non-Null Count  Dtype   \n",
      "---  ------         --------------  -----   \n",
      " 0   price          21597 non-null  float64 \n",
      " 1   bedrooms       21597 non-null  int64   \n",
      " 2   bathrooms      21597 non-null  float64 \n",
      " 3   sqft_living    21597 non-null  int64   \n",
      " 4   sqft_lot       21597 non-null  int64   \n",
      " 5   floors         21597 non-null  float64 \n",
      " 6   waterfront     21597 non-null  category\n",
      " 7   view           21597 non-null  category\n",
      " 8   condition      21597 non-null  category\n",
      " 9   grade          21597 non-null  category\n",
      " 10  sqft_above     21597 non-null  int64   \n",
      " 11  sqft_basement  21597 non-null  float64 \n",
      " 12  yr_renovated   21597 non-null  float64 \n",
      " 13  zipcode        21597 non-null  category\n",
      " 14  lat            21597 non-null  float64 \n",
      " 15  long           21597 non-null  float64 \n",
      " 16  sqft_living15  21597 non-null  int64   \n",
      " 17  sqft_lot15     21597 non-null  int64   \n",
      " 18  month_sold     21597 non-null  int64   \n",
      " 19  year_sold      21597 non-null  int64   \n",
      " 20  age            21597 non-null  int64   \n",
      " 21  renovated      21597 non-null  int32   \n",
      "dtypes: category(5), float64(7), int32(1), int64(9)\n",
      "memory usage: 2.8 MB\n"
     ]
    }
   ],
   "source": [
    "df.info()"
   ]
  },
  {
   "cell_type": "markdown",
   "metadata": {},
   "source": [
    "Bathrooms appear as float and we would expected bathrooms to be integers, so we will investigate the bathrooms column. "
   ]
  },
  {
   "cell_type": "code",
   "execution_count": 15,
   "metadata": {},
   "outputs": [
    {
     "data": {
      "text/plain": [
       "count    21597.000000\n",
       "mean         2.115826\n",
       "std          0.768984\n",
       "min          0.500000\n",
       "25%          1.750000\n",
       "50%          2.250000\n",
       "75%          2.500000\n",
       "max          8.000000\n",
       "Name: bathrooms, dtype: float64"
      ]
     },
     "execution_count": 15,
     "metadata": {},
     "output_type": "execute_result"
    }
   ],
   "source": [
    "# Summary statistics for bathroom variable\n",
    "df['bathrooms'].describe()"
   ]
  },
  {
   "cell_type": "code",
   "execution_count": 16,
   "metadata": {},
   "outputs": [
    {
     "data": {
      "text/plain": [
       "array([1.  , 2.25, 3.  , 2.  , 4.5 , 1.5 , 2.5 , 1.75, 2.75, 3.25, 4.  ,\n",
       "       3.5 , 0.75, 4.75, 5.  , 4.25, 3.75, 1.25, 5.25, 6.  , 0.5 , 5.5 ,\n",
       "       6.75, 5.75, 8.  , 7.5 , 7.75, 6.25, 6.5 ])"
      ]
     },
     "execution_count": 16,
     "metadata": {},
     "output_type": "execute_result"
    }
   ],
   "source": [
    "# Get unique values\n",
    "df['bathrooms'].unique()"
   ]
  },
  {
   "cell_type": "code",
   "execution_count": 17,
   "metadata": {},
   "outputs": [],
   "source": [
    "# Apply function to df\n",
    "df = round_bathrooms(df)"
   ]
  },
  {
   "cell_type": "code",
   "execution_count": 18,
   "metadata": {},
   "outputs": [
    {
     "data": {
      "text/html": [
       "<div>\n",
       "<style scoped>\n",
       "    .dataframe tbody tr th:only-of-type {\n",
       "        vertical-align: middle;\n",
       "    }\n",
       "\n",
       "    .dataframe tbody tr th {\n",
       "        vertical-align: top;\n",
       "    }\n",
       "\n",
       "    .dataframe thead th {\n",
       "        text-align: right;\n",
       "    }\n",
       "</style>\n",
       "<table border=\"1\" class=\"dataframe\">\n",
       "  <thead>\n",
       "    <tr style=\"text-align: right;\">\n",
       "      <th></th>\n",
       "      <th>price</th>\n",
       "      <th>bedrooms</th>\n",
       "      <th>bathrooms</th>\n",
       "      <th>sqft_living</th>\n",
       "      <th>sqft_lot</th>\n",
       "      <th>floors</th>\n",
       "      <th>waterfront</th>\n",
       "      <th>view</th>\n",
       "      <th>condition</th>\n",
       "      <th>grade</th>\n",
       "      <th>...</th>\n",
       "      <th>yr_renovated</th>\n",
       "      <th>zipcode</th>\n",
       "      <th>lat</th>\n",
       "      <th>long</th>\n",
       "      <th>sqft_living15</th>\n",
       "      <th>sqft_lot15</th>\n",
       "      <th>month_sold</th>\n",
       "      <th>year_sold</th>\n",
       "      <th>age</th>\n",
       "      <th>renovated</th>\n",
       "    </tr>\n",
       "  </thead>\n",
       "  <tbody>\n",
       "    <tr>\n",
       "      <th>0</th>\n",
       "      <td>221900.0</td>\n",
       "      <td>3</td>\n",
       "      <td>1</td>\n",
       "      <td>1180</td>\n",
       "      <td>5650</td>\n",
       "      <td>1.0</td>\n",
       "      <td>0</td>\n",
       "      <td>0</td>\n",
       "      <td>0</td>\n",
       "      <td>0</td>\n",
       "      <td>...</td>\n",
       "      <td>0.0</td>\n",
       "      <td>98178</td>\n",
       "      <td>47.5112</td>\n",
       "      <td>-122.257</td>\n",
       "      <td>1340</td>\n",
       "      <td>5650</td>\n",
       "      <td>10</td>\n",
       "      <td>2014</td>\n",
       "      <td>60</td>\n",
       "      <td>0</td>\n",
       "    </tr>\n",
       "    <tr>\n",
       "      <th>1</th>\n",
       "      <td>538000.0</td>\n",
       "      <td>3</td>\n",
       "      <td>2</td>\n",
       "      <td>2570</td>\n",
       "      <td>7242</td>\n",
       "      <td>2.0</td>\n",
       "      <td>0</td>\n",
       "      <td>0</td>\n",
       "      <td>0</td>\n",
       "      <td>0</td>\n",
       "      <td>...</td>\n",
       "      <td>1991.0</td>\n",
       "      <td>98125</td>\n",
       "      <td>47.7210</td>\n",
       "      <td>-122.319</td>\n",
       "      <td>1690</td>\n",
       "      <td>7639</td>\n",
       "      <td>12</td>\n",
       "      <td>2014</td>\n",
       "      <td>64</td>\n",
       "      <td>0</td>\n",
       "    </tr>\n",
       "    <tr>\n",
       "      <th>2</th>\n",
       "      <td>180000.0</td>\n",
       "      <td>2</td>\n",
       "      <td>1</td>\n",
       "      <td>770</td>\n",
       "      <td>10000</td>\n",
       "      <td>1.0</td>\n",
       "      <td>0</td>\n",
       "      <td>0</td>\n",
       "      <td>0</td>\n",
       "      <td>0</td>\n",
       "      <td>...</td>\n",
       "      <td>0.0</td>\n",
       "      <td>98028</td>\n",
       "      <td>47.7379</td>\n",
       "      <td>-122.233</td>\n",
       "      <td>2720</td>\n",
       "      <td>8062</td>\n",
       "      <td>2</td>\n",
       "      <td>2015</td>\n",
       "      <td>82</td>\n",
       "      <td>0</td>\n",
       "    </tr>\n",
       "    <tr>\n",
       "      <th>3</th>\n",
       "      <td>604000.0</td>\n",
       "      <td>4</td>\n",
       "      <td>3</td>\n",
       "      <td>1960</td>\n",
       "      <td>5000</td>\n",
       "      <td>1.0</td>\n",
       "      <td>0</td>\n",
       "      <td>0</td>\n",
       "      <td>0</td>\n",
       "      <td>0</td>\n",
       "      <td>...</td>\n",
       "      <td>0.0</td>\n",
       "      <td>98136</td>\n",
       "      <td>47.5208</td>\n",
       "      <td>-122.393</td>\n",
       "      <td>1360</td>\n",
       "      <td>5000</td>\n",
       "      <td>12</td>\n",
       "      <td>2014</td>\n",
       "      <td>50</td>\n",
       "      <td>0</td>\n",
       "    </tr>\n",
       "    <tr>\n",
       "      <th>4</th>\n",
       "      <td>510000.0</td>\n",
       "      <td>3</td>\n",
       "      <td>2</td>\n",
       "      <td>1680</td>\n",
       "      <td>8080</td>\n",
       "      <td>1.0</td>\n",
       "      <td>0</td>\n",
       "      <td>0</td>\n",
       "      <td>0</td>\n",
       "      <td>0</td>\n",
       "      <td>...</td>\n",
       "      <td>0.0</td>\n",
       "      <td>98074</td>\n",
       "      <td>47.6168</td>\n",
       "      <td>-122.045</td>\n",
       "      <td>1800</td>\n",
       "      <td>7503</td>\n",
       "      <td>2</td>\n",
       "      <td>2015</td>\n",
       "      <td>28</td>\n",
       "      <td>0</td>\n",
       "    </tr>\n",
       "  </tbody>\n",
       "</table>\n",
       "<p>5 rows × 22 columns</p>\n",
       "</div>"
      ],
      "text/plain": [
       "      price  bedrooms  bathrooms  sqft_living  sqft_lot  floors waterfront  \\\n",
       "0  221900.0         3          1         1180      5650     1.0          0   \n",
       "1  538000.0         3          2         2570      7242     2.0          0   \n",
       "2  180000.0         2          1          770     10000     1.0          0   \n",
       "3  604000.0         4          3         1960      5000     1.0          0   \n",
       "4  510000.0         3          2         1680      8080     1.0          0   \n",
       "\n",
       "  view condition grade  ...  yr_renovated  zipcode      lat     long  \\\n",
       "0    0         0     0  ...           0.0    98178  47.5112 -122.257   \n",
       "1    0         0     0  ...        1991.0    98125  47.7210 -122.319   \n",
       "2    0         0     0  ...           0.0    98028  47.7379 -122.233   \n",
       "3    0         0     0  ...           0.0    98136  47.5208 -122.393   \n",
       "4    0         0     0  ...           0.0    98074  47.6168 -122.045   \n",
       "\n",
       "   sqft_living15  sqft_lot15  month_sold  year_sold  age  renovated  \n",
       "0           1340        5650          10       2014   60          0  \n",
       "1           1690        7639          12       2014   64          0  \n",
       "2           2720        8062           2       2015   82          0  \n",
       "3           1360        5000          12       2014   50          0  \n",
       "4           1800        7503           2       2015   28          0  \n",
       "\n",
       "[5 rows x 22 columns]"
      ]
     },
     "execution_count": 18,
     "metadata": {},
     "output_type": "execute_result"
    }
   ],
   "source": [
    "# check changes have been applied\n",
    "df.head()"
   ]
  },
  {
   "cell_type": "code",
   "execution_count": 19,
   "metadata": {
    "scrolled": true
   },
   "outputs": [
    {
     "name": "stdout",
     "output_type": "stream",
     "text": [
      "<class 'pandas.core.frame.DataFrame'>\n",
      "RangeIndex: 21597 entries, 0 to 21596\n",
      "Data columns (total 22 columns):\n",
      " #   Column         Non-Null Count  Dtype   \n",
      "---  ------         --------------  -----   \n",
      " 0   price          21597 non-null  float64 \n",
      " 1   bedrooms       21597 non-null  int64   \n",
      " 2   bathrooms      21597 non-null  int64   \n",
      " 3   sqft_living    21597 non-null  int64   \n",
      " 4   sqft_lot       21597 non-null  int64   \n",
      " 5   floors         21597 non-null  float64 \n",
      " 6   waterfront     21597 non-null  category\n",
      " 7   view           21597 non-null  category\n",
      " 8   condition      21597 non-null  category\n",
      " 9   grade          21597 non-null  category\n",
      " 10  sqft_above     21597 non-null  int64   \n",
      " 11  sqft_basement  21597 non-null  float64 \n",
      " 12  yr_renovated   21597 non-null  float64 \n",
      " 13  zipcode        21597 non-null  category\n",
      " 14  lat            21597 non-null  float64 \n",
      " 15  long           21597 non-null  float64 \n",
      " 16  sqft_living15  21597 non-null  int64   \n",
      " 17  sqft_lot15     21597 non-null  int64   \n",
      " 18  month_sold     21597 non-null  int64   \n",
      " 19  year_sold      21597 non-null  int64   \n",
      " 20  age            21597 non-null  int64   \n",
      " 21  renovated      21597 non-null  int32   \n",
      "dtypes: category(5), float64(6), int32(1), int64(10)\n",
      "memory usage: 2.8 MB\n"
     ]
    }
   ],
   "source": [
    "df.info()"
   ]
  },
  {
   "cell_type": "markdown",
   "metadata": {},
   "source": [
    "All data types now appear correct. "
   ]
  },
  {
   "cell_type": "markdown",
   "metadata": {},
   "source": [
    "### Checking for Outliers"
   ]
  },
  {
   "cell_type": "markdown",
   "metadata": {},
   "source": [
    "### Boxplots"
   ]
  },
  {
   "cell_type": "code",
   "execution_count": 20,
   "metadata": {},
   "outputs": [
    {
     "data": {
      "image/png": "[encoded data removed]",
      "text/plain": [
       "<Figure size 2304x432 with 16 Axes>"
      ]
     },
     "metadata": {},
     "output_type": "display_data"
    }
   ],
   "source": [
    "# Select the variables you want to plot\n",
    "cols_to_plot = df.select_dtypes(include=['int64', 'float64']).columns\n",
    "\n",
    "# Create a subplot grid\n",
    "fig, axes = plt.subplots(nrows=1, ncols=len(cols_to_plot), figsize=(32, 6))\n",
    "\n",
    "# Create a boxplot for each variable in a separate subplot\n",
    "for i, col in enumerate(cols_to_plot):\n",
    "    axes[i].boxplot(df[col])\n",
    "    axes[i].set_title(col)\n",
    "\n",
    "plt.show()\n"
   ]
  },
  {
   "cell_type": "code",
   "execution_count": 21,
   "metadata": {
    "scrolled": false
   },
   "outputs": [
    {
     "ename": "KeyError",
     "evalue": "\"['view' 'grade' 'condition' 'zipcode'] not found in axis\"",
     "output_type": "error",
     "traceback": [
      "\u001b[1;31m---------------------------------------------------------------------------\u001b[0m",
      "\u001b[1;31mKeyError\u001b[0m                                  Traceback (most recent call last)",
      "\u001b[1;32m~\\AppData\\Local\\Temp/ipykernel_11172/2766288666.py\u001b[0m in \u001b[0;36m<module>\u001b[1;34m\u001b[0m\n\u001b[0;32m      2\u001b[0m \u001b[1;33m\u001b[0m\u001b[0m\n\u001b[0;32m      3\u001b[0m \u001b[1;31m# Select the categorical variables to drop and then generate boxplots\u001b[0m\u001b[1;33m\u001b[0m\u001b[1;33m\u001b[0m\u001b[0m\n\u001b[1;32m----> 4\u001b[1;33m \u001b[0mcols_to_plot\u001b[0m \u001b[1;33m=\u001b[0m \u001b[0mdf\u001b[0m\u001b[1;33m.\u001b[0m\u001b[0mselect_dtypes\u001b[0m\u001b[1;33m(\u001b[0m\u001b[0minclude\u001b[0m\u001b[1;33m=\u001b[0m\u001b[1;33m[\u001b[0m\u001b[1;34m'int64'\u001b[0m\u001b[1;33m,\u001b[0m \u001b[1;34m'float64'\u001b[0m\u001b[1;33m]\u001b[0m\u001b[1;33m)\u001b[0m\u001b[1;33m.\u001b[0m\u001b[0mcolumns\u001b[0m\u001b[1;33m.\u001b[0m\u001b[0mdrop\u001b[0m\u001b[1;33m(\u001b[0m\u001b[1;33m[\u001b[0m\u001b[1;34m'view'\u001b[0m\u001b[1;33m,\u001b[0m \u001b[1;34m'grade'\u001b[0m\u001b[1;33m,\u001b[0m \u001b[1;34m'yr_renovated'\u001b[0m\u001b[1;33m,\u001b[0m\u001b[1;34m'condition'\u001b[0m\u001b[1;33m,\u001b[0m \u001b[1;34m'zipcode'\u001b[0m\u001b[1;33m,\u001b[0m\u001b[1;34m'lat'\u001b[0m\u001b[1;33m,\u001b[0m\u001b[1;34m'long'\u001b[0m\u001b[1;33m]\u001b[0m\u001b[1;33m)\u001b[0m\u001b[1;33m\u001b[0m\u001b[1;33m\u001b[0m\u001b[0m\n\u001b[0m\u001b[0;32m      5\u001b[0m \u001b[1;33m\u001b[0m\u001b[0m\n\u001b[0;32m      6\u001b[0m \u001b[1;31m# Create a subplot grid\u001b[0m\u001b[1;33m\u001b[0m\u001b[1;33m\u001b[0m\u001b[0m\n",
      "\u001b[1;32mC:\\ProgramData\\Anaconda\\lib\\site-packages\\pandas\\core\\indexes\\base.py\u001b[0m in \u001b[0;36mdrop\u001b[1;34m(self, labels, errors)\u001b[0m\n\u001b[0;32m   6015\u001b[0m         \u001b[1;32mif\u001b[0m \u001b[0mmask\u001b[0m\u001b[1;33m.\u001b[0m\u001b[0many\u001b[0m\u001b[1;33m(\u001b[0m\u001b[1;33m)\u001b[0m\u001b[1;33m:\u001b[0m\u001b[1;33m\u001b[0m\u001b[1;33m\u001b[0m\u001b[0m\n\u001b[0;32m   6016\u001b[0m             \u001b[1;32mif\u001b[0m \u001b[0merrors\u001b[0m \u001b[1;33m!=\u001b[0m \u001b[1;34m\"ignore\"\u001b[0m\u001b[1;33m:\u001b[0m\u001b[1;33m\u001b[0m\u001b[1;33m\u001b[0m\u001b[0m\n\u001b[1;32m-> 6017\u001b[1;33m                 \u001b[1;32mraise\u001b[0m \u001b[0mKeyError\u001b[0m\u001b[1;33m(\u001b[0m\u001b[1;34mf\"{labels[mask]} not found in axis\"\u001b[0m\u001b[1;33m)\u001b[0m\u001b[1;33m\u001b[0m\u001b[1;33m\u001b[0m\u001b[0m\n\u001b[0m\u001b[0;32m   6018\u001b[0m             \u001b[0mindexer\u001b[0m \u001b[1;33m=\u001b[0m \u001b[0mindexer\u001b[0m\u001b[1;33m[\u001b[0m\u001b[1;33m~\u001b[0m\u001b[0mmask\u001b[0m\u001b[1;33m]\u001b[0m\u001b[1;33m\u001b[0m\u001b[1;33m\u001b[0m\u001b[0m\n\u001b[0;32m   6019\u001b[0m         \u001b[1;32mreturn\u001b[0m \u001b[0mself\u001b[0m\u001b[1;33m.\u001b[0m\u001b[0mdelete\u001b[0m\u001b[1;33m(\u001b[0m\u001b[0mindexer\u001b[0m\u001b[1;33m)\u001b[0m\u001b[1;33m\u001b[0m\u001b[1;33m\u001b[0m\u001b[0m\n",
      "\u001b[1;31mKeyError\u001b[0m: \"['view' 'grade' 'condition' 'zipcode'] not found in axis\""
     ]
    }
   ],
   "source": [
    "# Drop the irrelant columns for box plot purposes\n",
    "\n",
    "# Select the categorical variables to drop and then generate boxplots\n",
    "cols_to_plot = df.select_dtypes(include=['int64', 'float64']).columns.drop(['view', 'grade', 'yr_renovated','condition', 'zipcode','lat','long'])\n",
    "\n",
    "# Create a subplot grid\n",
    "fig, axes = plt.subplots(nrows=1, ncols=len(cols_to_plot), figsize=(30, 6))\n",
    "\n",
    "# Create a boxplot for each variable in a separate subplot\n",
    "for i, col in enumerate(cols_to_plot):\n",
    "    axes[i].boxplot(df[col])\n",
    "    axes[i].set_title(col)\n",
    "\n",
    "plt.show()\n"
   ]
  },
  {
   "cell_type": "code",
   "execution_count": null,
   "metadata": {},
   "outputs": [],
   "source": [
    "# Histogram plots for each data\n",
    "# Select the numerical variables you want to plot\n",
    "num_cols_to_plot = df.select_dtypes(include=['int64', 'float64']).columns.drop(['view', 'grade', 'yr_renovated','condition', 'zipcode','lat','long'])\n",
    "\n",
    "# Create a histogram for each variable\n",
    "df[num_cols_to_plot].hist(figsize=(25, 12))\n",
    "plt.show()\n"
   ]
  },
  {
   "cell_type": "markdown",
   "metadata": {},
   "source": [
    "We dropped 'view', 'grade', 'yr_renovated','condition', 'zipcode','lat','long' because they are either binary or geo variables and therefore cannot be reasonably visualized using either box plots or histograms. Floors, age, year_Sold, month_sold have normal distribution with no potential outliers. Waterfront is a binary variable.\n",
    "Therefore, we consider potential outliers in bedrooms, bathrooms, sqft_living, sqft_lot, floors and sqft_above features."
   ]
  },
  {
   "cell_type": "code",
   "execution_count": null,
   "metadata": {
    "scrolled": false
   },
   "outputs": [],
   "source": [
    "# Investigate bedrooms\n",
    "df['bedrooms'].value_counts()"
   ]
  },
  {
   "cell_type": "code",
   "execution_count": null,
   "metadata": {},
   "outputs": [],
   "source": [
    "#The houses with 33, 11 and 10 bedrooms need to be examined.\n",
    "# Select the houses with 33, 11 and 10 bedrooms\n",
    "bedroom_counts = [33, 11, 10]\n",
    "houses_to_examine = df[df['bedrooms'].isin(bedroom_counts)]\n",
    "\n",
    "# Print the selected houses\n",
    "print(houses_to_examine)\n"
   ]
  },
  {
   "cell_type": "markdown",
   "metadata": {},
   "source": [
    "From the above output, houses with 10 and 11 bedrooms appear likely to be okay based on their prices, number of bathrooms, and sqft_living. However, the 33 bedroom house has 2 bathrooms and a sale price of $640000 and it must have been a 3 bedroom house recorded as 33. Therefore, we will replace 33 with 3 bedrooms. "
   ]
  },
  {
   "cell_type": "code",
   "execution_count": null,
   "metadata": {},
   "outputs": [],
   "source": [
    "df.loc[15856, 'bedrooms'] = 3"
   ]
  },
  {
   "cell_type": "markdown",
   "metadata": {},
   "source": [
    "To remove other outliers we use the statistical method, of z-value where any data with a z-score > |3| will be removed.\n"
   ]
  },
  {
   "cell_type": "code",
   "execution_count": null,
   "metadata": {},
   "outputs": [],
   "source": [
    "# Apply function to df\n",
    "df = remove_outliers(df)"
   ]
  },
  {
   "cell_type": "code",
   "execution_count": null,
   "metadata": {},
   "outputs": [],
   "source": [
    "#Ian & Pamela Work on Divide price into high , medium, low \n",
    "# Visualize for us prices vs features \n",
    "# Pauline Work on the code to ensure its running for all of us\n",
    "# Pamela "
   ]
  },
  {
   "cell_type": "code",
   "execution_count": null,
   "metadata": {},
   "outputs": [],
   "source": [
    "# we want to Group price into three cartegories \n",
    "# Define the percentile values for each category\n",
    "price = df['price']\n",
    "high_percentile = np.percentile(price, 75)\n",
    "low_percentile = np.percentile(price, 25)\n",
    "\n",
    "# Group the prices into categories based on the percentiles\n",
    "high_prices = price[price > high_percentile]\n",
    "medium_prices = price[(price >= low_percentile) & (price <= high_percentile)]\n",
    "low_prices = price[price < low_percentile]\n",
    "\n",
    "# Print the results\n",
    "print(\"High prices:\", high_prices)\n",
    "print(\"Medium prices:\", medium_prices)\n",
    "print(\"Low prices:\", low_prices)"
   ]
  },
  {
   "cell_type": "code",
   "execution_count": null,
   "metadata": {},
   "outputs": [],
   "source": [
    "# plotting price against Bedrooms\n",
    "#data\n",
    "x = df['bedrooms']\n",
    "y1 = high_prices\n",
    "y2 = medium_prices\n",
    "y3 = low_prices\n",
    "\n",
    "# create figure\n",
    "fig, ax = plt.subplots(ncols=3, figsize=(10,8), sharey=False)\n",
    "\n",
    "# Bar plot\n",
    "# High prices vs No. of bedrooms\n",
    "sns.barplot(x=x, y=y1, ax=ax[0]);\n",
    "\n",
    "# median price\n",
    "sns.barplot(x=x, y=y2, ax=ax[1]);\n",
    "\n",
    "# low price\n",
    "sns.barplot(x=x, y=y3, ax=ax[2]);\n"
   ]
  },
  {
   "cell_type": "code",
   "execution_count": null,
   "metadata": {
    "scrolled": false
   },
   "outputs": [],
   "source": [
    "# plotting price against bathrooms\n",
    "#data\n",
    "x = df['bathrooms']\n",
    "y1 = high_prices\n",
    "y2 = medium_prices\n",
    "y3 = low_prices\n",
    "\n",
    "# Histogram plots\n",
    "# High prices vs No. of bathrooms\n",
    "fig, ax0 = plt.subplots( figsize=(10,8))\n",
    "sns.histplot(x=x, y=y1, ax=ax0)\n",
    "plt.title('High-end properties Vs No. of Bathrooms', fontsize=18)\n",
    "plt.xlabel('No of bathrooms', fontsize=14)\n",
    "plt.ylabel('High Prices', fontsize=14);\n",
    "\n",
    "# median price vs No. of bathrooms\n",
    "fig, ax1 = plt.subplots( figsize=(10,8))\n",
    "sns.histplot(x=x, y=y2, ax=ax1)\n",
    "plt.title('Middle Price Properties Vs No. of Bathrooms', fontsize=18)\n",
    "plt.xlabel('No of bathrooms', fontsize=14)\n",
    "plt.ylabel('Middle Prices', fontsize=14);\n",
    "\n",
    "# low price vs No. of bathrooms\n",
    "fig, ax2 = plt.subplots( figsize=(10,8))\n",
    "sns.histplot(x=x, y=y3, ax=ax2)\n",
    "plt.title('Low-price Properties Vs No. of Bathrooms', fontsize=18)\n",
    "plt.xlabel('No of bathrooms', fontsize=14)\n",
    "plt.ylabel('Low Prices', fontsize=14);"
   ]
  },
  {
   "cell_type": "markdown",
   "metadata": {},
   "source": [
    "In the histograms, we can see that for all three price categories, the distribution of the number of bathrooms is right-skewed, which means there are more properties with fewer bathrooms and fewer properties with more bathrooms.\n",
    "\n",
    "The high-price properties tend to have a higher number of bathrooms than the medium and low-price properties, as shown by the higher frequency of bars on the right side of the histograms for the high-price category. In contrast, the low-price properties have a higher frequency of bars on the left side of the histograms, indicating that they have fewer bathrooms.\n",
    "\n",
    "The histograms suggest that the number of bathrooms is positively correlated with the price of properties. However, we need to perform statistical analysis to confirm this relationship and identify the strength of the relationship."
   ]
  },
  {
   "cell_type": "code",
   "execution_count": null,
   "metadata": {},
   "outputs": [],
   "source": [
    "from scipy.stats import pearsonr\n",
    "\n",
    "def is_correlation_significant(data, threshold):\n",
    "    #where, data is our dataframe and threshhol is absolute value of the correlation coefficient\n",
    "    # Calculate the Pearson correlation coefficient and p-value\n",
    "    corr, p_value = pearsonr(data['bathrooms'], data['price'])\n",
    "\n",
    "    # Check if the correlation coefficient is statistically significant\n",
    "    if abs(corr) > threshold and p_value < 0.05:\n",
    "        return True\n",
    "    else:\n",
    "        return False"
   ]
  },
  {
   "cell_type": "code",
   "execution_count": null,
   "metadata": {},
   "outputs": [],
   "source": [
    "data = df\n",
    "threshold = 0.45\n",
    "is_correlation_significant(data, threshold)"
   ]
  },
  {
   "cell_type": "markdown",
   "metadata": {},
   "source": [
    "From this we can deduce that the difference is not statistically significant, although that changes with the value of the threshold"
   ]
  },
  {
   "cell_type": "code",
   "execution_count": null,
   "metadata": {},
   "outputs": [],
   "source": [
    "#create a dictionary mapping month numbers to month names\n",
    "import calendar\n",
    "\n",
    "month_dict = dict(enumerate(calendar.month_name))\n",
    "\n",
    "# apply the dictionary to the month_sold column to get month names\n",
    "df['month_name'] = df['month_sold'].apply(lambda x: month_dict[x])\n",
    "\n",
    "# define seasons based on months\n",
    "seasons = {'Winter': ['December', 'January', 'February'],\n",
    "           'Spring': ['March', 'April', 'May'],\n",
    "           'Summer': ['June', 'July', 'August'],\n",
    "           'Fall': ['September', 'October', 'November']}\n",
    "\n",
    "# create a new 'season' column based on the 'month_sold' column\n",
    "df['season'] = df['month_name'].apply(lambda x: next((season for season, months in seasons.items() if x in months), None))\n"
   ]
  },
  {
   "cell_type": "code",
   "execution_count": null,
   "metadata": {},
   "outputs": [],
   "source": [
    "# plotting price against bathrooms\n",
    "#data\n",
    "x = df['season']\n",
    "y1 = high_prices\n",
    "y2 = medium_prices\n",
    "y3 = low_prices\n",
    "\n",
    "\n",
    "# Scatter plots\n",
    "\n",
    "# High prices vs No. of bathrooms\n",
    "fig, ax0 = plt.subplots( figsize=(10,8))\n",
    "sns.scatterplot(x=x, y=y1, ax=ax0)\n",
    "plt.title('High-end properties Vs Seasons', fontsize=18)\n",
    "plt.xlabel('Season', fontsize=14)\n",
    "plt.ylabel('High Prices', fontsize=14);\n",
    "\n",
    "# median price vs No. of bathrooms\n",
    "fig, ax1 = plt.subplots( figsize=(10,8))\n",
    "sns.scatterplot(x=x, y=y2, ax=ax1)\n",
    "plt.title('Middle Price Properties Vs Seasons', fontsize=18)\n",
    "plt.xlabel('Season', fontsize=14)\n",
    "plt.ylabel('Middle Prices', fontsize=14);\n",
    "\n",
    "# low price vs No. of bathrooms\n",
    "fig, ax2 = plt.subplots( figsize=(10,8))\n",
    "sns.scatterplot(x=x, y=y3, ax=ax2)\n",
    "plt.title('Low-price Properties Vs Seasons', fontsize=18)\n",
    "plt.xlabel('Season', fontsize=14)\n",
    "plt.ylabel('Low Prices', fontsize=14);"
   ]
  },
  {
   "cell_type": "markdown",
   "metadata": {},
   "source": [
    "Based on the provided data, the scatter plots show the relationship between the season and the prices of properties in the dataset. From the count of properties sold in each season, it appears that spring and summer are the most popular seasons for home buying, while fall and winter have comparatively fewer sales.\n",
    "\n",
    "The scatter plots of high-end, medium, and low-price properties against the season show that the prices of properties are generally consistent across all seasons. However, there is a slight increase in the number of high-end properties sold in the spring and a decrease in the number of low-priced properties sold in the winter.\n",
    "\n",
    "This pattern may be due to various factors, including the perceived desirability of certain seasons for buying and selling homes, the availability of listings during different seasons, or even the preferences of buyers and sellers. For example, the spring season may be associated with better weather conditions and more opportunities for home viewing, which may increase demand for high-end properties. Conversely, the winter season may be associated with lower sales of low-priced properties due to holiday expenses and colder weather. However, further analysis would be necessary to determine the exact reasons for these trends."
   ]
  },
  {
   "cell_type": "code",
   "execution_count": null,
   "metadata": {},
   "outputs": [],
   "source": [
    "# Create a copy to manipulate\n",
    "dfq2 = df.copy()\n",
    "\n",
    "# Plot scatter plot\n",
    "plt.figure(figsize = (11,9))\n",
    "ax = sns.scatterplot(x = dfq2['long'], y = dfq2['lat'], hue = dfq2['price'],\n",
    "                palette = 'nipy_spectral',s=10, legend = None, data = dfq2)\n",
    "\n",
    "norm = plt.Normalize(dfq2['price'].min(), dfq2['price'].max())\n",
    "smap = plt.cm.ScalarMappable(cmap='nipy_spectral', norm=norm)\n",
    "smap.set_array([])\n",
    "\n",
    "ax.figure.colorbar(smap, label = 'price in USD')\n",
    "\n",
    "plt.xlabel('Longitude')\n",
    "plt.ylabel('Latitude')\n",
    "plt.title('King County House Sales')\n",
    "plt.show()"
   ]
  },
  {
   "cell_type": "markdown",
   "metadata": {},
   "source": [
    "From this visualisation we can already draw initial insights based on the houses' geographical locations. The highest house prices are concentrated in the area with latitude around 47.6 and longitude around -122.25. There is a disparity with southern locations achieving lower house prices.\n",
    "\n",
    "However there is no context to help us! We would need an underlying map to understand where the cities, highways, bodies of water etc. arelocated. It is difficult to draw meaningful conclusions with this visualisation alone.\n",
    "\n",
    "Whilst we could define quadrants using the latitude and longitude, let us seek to plot the houses on a map instead."
   ]
  },
  {
   "cell_type": "markdown",
   "metadata": {},
   "source": [
    "Map of house sales\n",
    "To visualise house sales on a map, we will use Bokeh and the built-in map tile from Carto DB. Note that Bokeh requires Mercator coordinates so we will need to convert our latitude and longitude values."
   ]
  },
  {
   "cell_type": "code",
   "execution_count": null,
   "metadata": {},
   "outputs": [],
   "source": [
    "# Define coord as tuple (lat,long)\n",
    "dfq2['coord'] = list(zip(dfq2['lat'], dfq2['long']))\n",
    "\n",
    "\n",
    "# We will create new columns mercator_x and mercator_y to use in our plot.\n",
    "\n",
    "# Obtain list of mercator coordinates using helper function\n",
    "mercators = [x_coord(x, y) for x, y in dfq2['coord'] ]\n",
    "\n",
    "# Create column mercator\n",
    "dfq2['mercator'] = mercators\n",
    "\n",
    "# Define columns mercator_x and mercator_y\n",
    "dfq2[['mercator_x', 'mercator_y']] = dfq2['mercator'].apply(pd.Series)\n",
    "\n",
    "# Preview relevant columns\n",
    "dfq2[['zipcode', 'mercator_x', 'mercator_y', 'price']].head()"
   ]
  },
  {
   "cell_type": "code",
   "execution_count": null,
   "metadata": {},
   "outputs": [],
   "source": [
    "# Our data is now in the correct format, let us create the map using Bokeh.\n",
    "# We would like to display the price and zipcode when the user hovers over a data point, which is achieved using tooltips.\n",
    "# House prices per Zipcode\n",
    "# Explore zipcode\n",
    "dfq2['zipcode'].value_counts()\n"
   ]
  },
  {
   "cell_type": "markdown",
   "metadata": {},
   "source": [
    "There are 70 unique zipcodes represented in our dataset.\n",
    "\n",
    "Let us create a heatmap to explore the median house price per zipcode and see if we can establish zipcode 'tiers'. We will make use of a geojson file showing the zip code boundaries and extract price and zipcode data from our dataset"
   ]
  },
  {
   "cell_type": "code",
   "execution_count": null,
   "metadata": {},
   "outputs": [],
   "source": [
    "# Extract price and zipcode from our dataset\n",
    "dfrel = dfq2[['zipcode', 'price']]\n",
    "\n",
    "# Groupby zipcode and take median price\n",
    "dfrel = dfrel.groupby(dfrel['zipcode']).median()\n",
    "\n",
    "# Reset index after groupy\n",
    "dfrel = dfrel.reset_index()\n",
    "\n",
    "# Change type to str\n",
    "dfrel['zipcode'] = dfrel['zipcode'].astype(str)\n",
    "\n",
    "# Rename column to match type\n",
    "dfrel = dfrel.rename(columns = {'zipcode' : 'ZIPCODE'})\n",
    "\n",
    "# Check\n",
    "dfrel"
   ]
  },
  {
   "cell_type": "code",
   "execution_count": null,
   "metadata": {},
   "outputs": [],
   "source": [
    "# Get top 100 prices\n",
    "dftop = dfq2.sort_values('price', ascending = False)[:100]"
   ]
  },
  {
   "cell_type": "code",
   "execution_count": null,
   "metadata": {},
   "outputs": [],
   "source": [
    "import folium \n",
    "from folium import plugins\n",
    "from folium.plugins import HeatMap \n",
    "#Plot with follium\n",
    "\n",
    "# Create a base map by providing coordinates\n",
    "m = folium.Map(location = [47.5, -122.2])\n",
    "\n",
    "# Add data for heatmap\n",
    "heat_data = dftop['coord']\n",
    "\n",
    "# Add heatmap onto map\n",
    "HeatMap(heat_data).add_to(m)\n",
    "\n",
    "# Show map\n",
    "m"
   ]
  },
  {
   "cell_type": "markdown",
   "metadata": {},
   "source": [
    "We can also pinpoint these directly using the coordinates. To increase readability, we have chosen to only display the top 30 houses."
   ]
  },
  {
   "cell_type": "code",
   "execution_count": null,
   "metadata": {},
   "outputs": [],
   "source": [
    "# Plot top 30 houses on map\n",
    "\n",
    "# Create a base map by providing coordinates\n",
    "m = folium.Map(location = [47.5, -122.2])\n",
    "\n",
    "# Add markers for houses\n",
    "for coordinates in dftop['coord'][:30]:\n",
    "    folium.Marker([coordinates[0], coordinates[1]], popup = coordinates).add_to(m)\n",
    "\n",
    "# Show map\n",
    "m"
   ]
  },
  {
   "cell_type": "markdown",
   "metadata": {},
   "source": [
    "#### Waterfront Feature\n",
    "From the maps, it is apparent that being on the waterfront is highly sought after and many of the most expensive houses in our dataset have this feature. We have been provided with a waterfront feature, which characterises houses which have a view of a waterfront. Let us investigate how this feature relates to price by using a boxplot."
   ]
  },
  {
   "cell_type": "code",
   "execution_count": null,
   "metadata": {},
   "outputs": [],
   "source": [
    "# Plot boxplot of waterfront feature\n",
    "sns.boxplot(x = dfq2['waterfront'], y = dfq2['price'])\n",
    "plt.title(\"Boxplot of waterfront feature vs. price\")\n",
    "plt.ylabel(\"price in USD\")\n",
    "plt.xlabel(None)\n",
    "plt.xticks(np.arange(2), ('Not view of waterfront', 'Waterfront view'))\n",
    "plt.show()"
   ]
  },
  {
   "cell_type": "code",
   "execution_count": null,
   "metadata": {},
   "outputs": [],
   "source": [
    "waterfrontmean = dfq2[dfq2['waterfront'] == 1]['price'].mean()\n",
    "nonwaterfrontmean = dfq2[dfq2['waterfront'] == 0]['price'].mean()\n",
    "print(f\"The mean house price for a house with waterfront view is USD {round(waterfrontmean,2)}\")\n",
    "print(f\"The mean house price for a house without waterfront view is USD {round(nonwaterfrontmean,2)}\")"
   ]
  },
  {
   "cell_type": "code",
   "execution_count": null,
   "metadata": {},
   "outputs": [],
   "source": [
    "len(dfq2[dfq2['waterfront'] == 1])/len(dfq2)*100"
   ]
  },
  {
   "cell_type": "markdown",
   "metadata": {},
   "source": [
    "From this analysis we can see that most houses in King County have no waterfront.\n",
    "\n",
    "However, the houses with waterfront have the highest prices."
   ]
  },
  {
   "cell_type": "markdown",
   "metadata": {},
   "source": [
    "## 4.0 Data Analysis"
   ]
  },
  {
   "cell_type": "markdown",
   "metadata": {},
   "source": [
    "## 4.1 Seasons"
   ]
  },
  {
   "cell_type": "code",
   "execution_count": null,
   "metadata": {},
   "outputs": [],
   "source": [
    "# Group by season and month_sold, and count the number of sales for each group\n",
    "season_sales = df.groupby(['season', 'month_sold'])['price'].count()\n",
    "# Find the season with the most sales\n",
    "\n",
    "best_season = season_sales.groupby('season').max()\n",
    "\n",
    "# Sort the seasons by total sales in descending order\n",
    "best_season = best_season.sort_values(ascending=False)\n",
    "\n",
    "# Print the season and corresponding months with the amount sold in each season\n",
    "for season in best_season.index:\n",
    "    months = ', '.join(seasons[season])\n",
    "    sales = season_sales.loc[season]\n",
    "    print(f\"{season} ({months}): {sales.sum()} sales\")\n",
    "    print(sales)"
   ]
  },
  {
   "cell_type": "code",
   "execution_count": null,
   "metadata": {},
   "outputs": [],
   "source": [
    "# Create a bar chart to show the sales for each season\n",
    "sns.barplot(x=best_season.index, y=best_season.values)\n",
    "plt.title('Season-wise sales')\n",
    "plt.xlabel('Season')\n",
    "plt.ylabel('Sales')\n",
    "plt.show()"
   ]
  },
  {
   "cell_type": "markdown",
   "metadata": {},
   "source": [
    "Looking at the sales data, we can see that the spring months of March, April, and May are the best for selling houses with a total of 6518 sales. This is likely due to the fact that Spring is a time of renewal and growth, and people may be more willing to make big changes such as buying a new home during this time. May is the most popular month for selling homes within Spring, with 2414 sales.\n",
    "\n",
    "Summer, which comprises the months of June, July, and August, had a slightly lower total sales of 6328 compared to spring. July had the highest sales with 2211 followed by June with 2178 and \n",
    "August with 1939.\n",
    "\n",
    "The fall season of September, October, and November had a total of 5056 sales, with October having the highest sales of 1876 followed by September with 1771 and November with 1409.\n",
    "\n",
    "Lastly, the winter season of December, January, and February had the lowest total sales of 3695. December had the highest sales with 1470 followed by February with 1247 and January with 978. This may be due to the fact that Winter is a time when people tend to stay indoors and may be less inclined to go through the hassle of buying or selling a home.\n",
    "\n",
    "Overall, it is important to note that this conclusion is based solely on the provided data and may not be reflective of larger trends in the housing market. Additionally, there may be some inaccuracies in the data such as missing or incomplete records, which could affect the accuracy of these findings.\n"
   ]
  },
  {
   "cell_type": "markdown",
   "metadata": {},
   "source": [
    "## 4.2 Location"
   ]
  },
  {
   "cell_type": "markdown",
   "metadata": {},
   "source": [
    "Location is key when it comes to real estate. Our second objective seeks to understand the geographical distribution of the homes in our dataset and determine where the highest house sales were recorded."
   ]
  },
  {
   "cell_type": "code",
   "execution_count": null,
   "metadata": {
    "scrolled": false
   },
   "outputs": [],
   "source": [
    "import plotly.graph_objs as go\n",
    "\n",
    "# Define the map layout\n",
    "layout = go.Layout(\n",
    "    title='Housing Sales by Location',\n",
    "    autosize=True,\n",
    "    hovermode='closest',\n",
    "    mapbox=dict(\n",
    "        style='stamen-terrain',\n",
    "        bearing=0,\n",
    "        center=dict(\n",
    "            lat=df['lat'].median(),\n",
    "            lon=df['long'].median()\n",
    "        ),\n",
    "        pitch=0,\n",
    "        zoom=10\n",
    "    ),\n",
    ")\n",
    "\n",
    "# Define the map data as a scatter plot of the coordinates\n",
    "data = go.Scattermapbox(\n",
    "    lat=df['lat'],\n",
    "    lon=df['long'],\n",
    "    mode='markers',\n",
    "    marker=dict(\n",
    "        size=5,\n",
    "        color=df['price'],\n",
    "        \n",
    "        opacity=0.8\n",
    "    ),\n",
    "    text=['Price: ${}'.format(i) for i in df['price']],\n",
    "    hovertext = df.apply(lambda x: f\"Price: ${x['price']}, Waterfront: {x['waterfront']}\", axis=1),\n",
    ")\n",
    "\n",
    "# Create the map figure and show it\n",
    "fig = go.Figure(data=[data], layout=layout)\n",
    "fig.show()"
   ]
  },
  {
   "cell_type": "markdown",
   "metadata": {},
   "source": [
    "Based on the plotted graph, it is evident that a significant number of high-end residences are situated in the Bellevue area. The region comprises of a considerable size of uninhabitable mountainous terrain, which concentrates most of the housing in the towns. As a result, these towns appear to have a higher density of housing compared to the surrounding areas. \n",
    "Additionally, it is important to note that the plot may not be entirely accurate and there may be some data points that are not representative of the actual situation. For example, some properties may be incorrectly labeled as having waterfront access when they do not, which could affect their price and skew the distribution shown in the plot.\n",
    "However, it is important to note that this statement is limited to the data presented in the plot and may not necessarily represent the overall distribution residences in the area. Further analysis and data may be required to make more conclusive observations."
   ]
  },
  {
   "cell_type": "markdown",
   "metadata": {},
   "source": [
    "## 5.1 Modeling"
   ]
  },
  {
   "cell_type": "code",
   "execution_count": null,
   "metadata": {
    "scrolled": false
   },
   "outputs": [],
   "source": [
    "X = df.drop(columns=['price', 'season', 'month_name', 'grade', 'condition', 'view'], axis=1)\n",
    "fig, axs = plt.subplots(4, 4, figsize=(16, 16), sharey=True)\n",
    "for i in range(4):\n",
    "    for j in range(4):\n",
    "        if i*4 + j < len(X.columns):\n",
    "            sns.regplot(x=X.iloc[:,i*4+j], y='price', data=df, ax=axs[i][j])\n",
    "            axs[i][j].set_title(X.columns[i*4+j])\n",
    "plt.tight_layout()\n",
    "plt.show()"
   ]
  },
  {
   "cell_type": "markdown",
   "metadata": {},
   "source": [
    "### Model One"
   ]
  },
  {
   "cell_type": "markdown",
   "metadata": {},
   "source": [
    "##### Baseline Model Generation "
   ]
  },
  {
   "cell_type": "code",
   "execution_count": null,
   "metadata": {},
   "outputs": [],
   "source": [
    "# Looking at correlations between other variables and price\n",
    "df.corr()[\"price\"]"
   ]
  },
  {
   "cell_type": "code",
   "execution_count": null,
   "metadata": {},
   "outputs": [],
   "source": [
    "# Since Sqft_living is the feature with the strongest correlation in our dataset let's build our baseline model with that\n",
    "df.plot.scatter(x=\"sqft_living\", y=\"price\");"
   ]
  },
  {
   "cell_type": "markdown",
   "metadata": {},
   "source": [
    "There appears to be a fairly clear linear relationship between the Square footage of living space feature and price of a home in King County. We can use this to make a baseline model."
   ]
  },
  {
   "cell_type": "code",
   "execution_count": null,
   "metadata": {},
   "outputs": [],
   "source": [
    "# Define parameters\n",
    "y = df[\"price\"]\n",
    "X_baseline = df[[\"sqft_living\"]]"
   ]
  },
  {
   "cell_type": "code",
   "execution_count": null,
   "metadata": {},
   "outputs": [],
   "source": [
    "baseline_results = fit_simple_linear_reg(df, 'price', 'sqft_living')\n",
    "print(baseline_results)"
   ]
  },
  {
   "cell_type": "code",
   "execution_count": null,
   "metadata": {},
   "outputs": [],
   "source": [
    "# display model coefficients\n",
    "baseline_results.params"
   ]
  },
  {
   "cell_type": "markdown",
   "metadata": {},
   "source": [
    "### Baseline Model results\n",
    "\n",
    "Looking at our summary above, our regression line is\n",
    "$$ Price = 239 * sqft\\_living - $33,399 $$\n",
    "\n",
    "We can make the following observations from the results:\n",
    "\n",
    "* The model is statistically significant with a p-value below 0.05.\n",
    "* The model explains 40.1% of the variance in price, as indicated by the R-squared value.\n",
    "* Both the intercept (const) and the slope (sqft_living) coefficients are statistically significant with t-statistic p-  values well below 0.05.\n",
    "* For a house with a living space of 850 square feet, we would expect the price to be about $169,751.\n",
    "\n",
    "* Generally speaking, as the living space of the house increases, so does the price of the house\n",
    "\n",
    "\n"
   ]
  },
  {
   "cell_type": "markdown",
   "metadata": {},
   "source": [
    "### 5.2 Baseline Model visualization"
   ]
  },
  {
   "cell_type": "code",
   "execution_count": null,
   "metadata": {},
   "outputs": [],
   "source": [
    "fig, ax = plt.subplots()\n",
    "df.plot.scatter(x=\"sqft_living\", y=\"price\", label=\"Data points\", ax=ax)\n",
    "sm.graphics.abline_plot(model_results=baseline_results, label=\"Regression line\", ax=ax, color=\"black\")\n",
    "ax.legend();"
   ]
  },
  {
   "cell_type": "code",
   "execution_count": null,
   "metadata": {
    "scrolled": false
   },
   "outputs": [],
   "source": [
    "# create partial regression plots for the predictor\n",
    "\n",
    "fig = plt.figure(figsize=(15,8))\n",
    "sm.graphics.plot_regress_exog(baseline_results, \"sqft_living\", fig=fig)\n",
    "plt.show()"
   ]
  },
  {
   "cell_type": "markdown",
   "metadata": {},
   "source": [
    "Actions Points # check data types, separate date and month, then create a new column for date, month, and maybe season, autum, spring, winter, fall. \n",
    "Round off bathrooms to whole numbers since we cant have bathrooms as decimals\n",
    "One-hot encode waterfront, view , grade, condition. "
   ]
  },
  {
   "cell_type": "markdown",
   "metadata": {},
   "source": [
    "### Multiple Linear Regression Model"
   ]
  },
  {
   "cell_type": "code",
   "execution_count": null,
   "metadata": {},
   "outputs": [],
   "source": [
    "\n",
    "predictor_cols = ['bedrooms', 'bathrooms', 'sqft_living', 'floors', 'waterfront', 'zipcode'] \n",
    "multiple_model = fit_multiple_linear_reg(df, 'price', predictor_cols)\n",
    "print(multiple_model)"
   ]
  },
  {
   "cell_type": "markdown",
   "metadata": {},
   "source": [
    "The output you provided seems to be related to a machine learning model's performance evaluation, specifically a linear regression model. The R^2 (coefficient of determination) is a statistical measure that represents the proportion of variance in the dependent variable that is explained by the independent variable(s) in a regression model.\n",
    "\n",
    "The output suggests that the model has an R^2 of 0.457 on the training data and an R^2 of 0.453 on the test data. The R^2 values range from 0 to 1, where a higher R^2 indicates a better fit of the model to the data."
   ]
  },
  {
   "cell_type": "code",
   "execution_count": null,
   "metadata": {
    "scrolled": false
   },
   "outputs": [],
   "source": [
    "predictor_cols1 = [\"sqft_living\", \"bedrooms\",\"bathrooms\",\"sqft_lot\",\"floors\",\"sqft_above\",\"yr_renovated\", \"waterfront\", \"zipcode\"]\n",
    "multiple_model1 = fit_multiple_linear_reg(df, 'price', predictor_cols1)\n",
    "print(multiple_model1)"
   ]
  },
  {
   "cell_type": "markdown",
   "metadata": {},
   "source": [
    "Training R^2: 0.45726927906625403\n",
    "Test R^2: 0.4525594985539714\n",
    "\n",
    "We can see that the second set of output has higher R^2 values for both training and test data, indicating a better fit of the linear regression model to the data compared to the first set.\n",
    "\n",
    "The difference between the training and test R^2 values in both sets is similar, suggesting that the model is not overfitting to the training data."
   ]
  },
  {
   "cell_type": "code",
   "execution_count": null,
   "metadata": {},
   "outputs": [],
   "source": [
    "# polynomial regression\n",
    "predictor_cols = ['sqft_living']\n",
    "degree = 2\n",
    "poly_test = fit_polynomial_reg(df, 'price', predictor_cols, degree)\n"
   ]
  },
  {
   "cell_type": "markdown",
   "metadata": {},
   "source": [
    "The reason for performing polynomial regression is to capture more complex, nonlinear relationships between the predictor and target variables.\n",
    "12:59\n",
    "In simple linear regression, you model the relationship between the target and a single predictor variable using a straight line. However, in many real-world scenarios, the relationship between the target and the predictor may not be linear, but rather curvilinear or have some other shape.\n",
    "Polynomial regression addresses this issue by adding polynomial features to the model, which allow it to capture more complex relationships between the predictors and the target variable. By doing so, it can improve the model's fit to the data and potentially lead to better predictive performance.\n"
   ]
  },
  {
   "cell_type": "markdown",
   "metadata": {},
   "source": [
    "We can see that the first and second sets have higher R^2 values for both training and test data compared to the third set. This indicates that the models in the first and second sets are better at explaining the variance in the dependent variable compared to the model in the third set.\n",
    "\n",
    "Furthermore, the second set has higher R^2 values compared to the first set, indicating a better fit of the linear regression model to the data in the second set.\n",
    "\n",
    "Overall, it seems like the second set provides the best performance with higher R^2 values for both training and test data. However, it's important to keep in mind that other factors, such as model complexity, interpretability, and computational resources, should also be considered when selecting a model."
   ]
  },
  {
   "cell_type": "markdown",
   "metadata": {},
   "source": [
    "In comparison with the baseline model, both the first and second sets of results show improvements in the R-squared values, indicating better performance in explaining the variance in the dependent variable. The second set of results, in particular, shows the best performance among all sets with the highest R-squared values. The third set of results, on the other hand, shows a decrease in performance compared to the baseline model. Overall, it's important to select the best model based on various factors, including R-squared values, model complexity, interpretability, and computational resources."
   ]
  },
  {
   "cell_type": "markdown",
   "metadata": {},
   "source": [
    "We will therefore, proceed to do the same analysis using Stats Model API. to get a better understanding of the data. and have a wider scope of explained wariance. \n",
    "We will not redo the base model since we already have that usint the package. "
   ]
  },
  {
   "cell_type": "markdown",
   "metadata": {},
   "source": [
    "### Model Two"
   ]
  },
  {
   "cell_type": "code",
   "execution_count": null,
   "metadata": {},
   "outputs": [],
   "source": [
    "# Initial feature colums\n",
    "predictor_cols = ['bedrooms', 'bathrooms', 'sqft_living', 'floors', 'waterfront', 'zipcode']\n",
    "predictor_cols_results = fit_simple_linear_reg(df, 'price', predictor_cols)\n",
    "print(predictor_cols_results)"
   ]
  },
  {
   "cell_type": "markdown",
   "metadata": {},
   "source": [
    "The OLS regression model shows that the predictors (bedrooms, bathrooms, sqft_living, floors, waterfront, and zipcode) have a significant impact on the house prices. The R-squared value of 0.456 indicates that the model explains 45.6% of the variance in the house prices. The coefficients of the predictors show the direction and magnitude of the effect they have on the house prices. The model also shows that the constant term has a negative coefficient and is significant, indicating that there are other factors impacting the house prices that are not accounted for in the model."
   ]
  },
  {
   "cell_type": "markdown",
   "metadata": {},
   "source": [
    "Looking at the coefficients in the multiple linear regression model, we can see that all of the predictors have statistically significant coefficients (p-value < 0.05), except for the number of floors, which has a p-value of 0.006. This indicates that all of the predictors except for the number of floors are important in predicting the price of a house.\n",
    "\n",
    "The coefficients of the multiple linear regression model also provide information about the direction and magnitude of the relationship between each predictor and the dependent variable. For example, the coefficient for the number of bedrooms is negative (-4.645e+04), indicating that as the number of bedrooms increases, the price of the house tends to decrease. On the other hand, the coefficient for the waterfront variable is positive (6.573e+05), indicating that houses with a waterfront tend to have a higher price.\n",
    "\n",
    "Overall, the multiple linear regression model provides a more comprehensive analysis of the relationship between the predictors and the dependent variable, and can be used to make more accurate predictions about the price of a house."
   ]
  },
  {
   "cell_type": "markdown",
   "metadata": {},
   "source": [
    "### Model Three"
   ]
  },
  {
   "cell_type": "code",
   "execution_count": null,
   "metadata": {},
   "outputs": [],
   "source": [
    "# Moving to our second list of features to see if it will improve. \n",
    "predictor_cols1 = [\"sqft_living\", \"bedrooms\",\"bathrooms\",\"sqft_lot\",\"floors\",\"sqft_above\",\"yr_renovated\", \"waterfront\", \"zipcode\"]\n",
    "predictor_cols1_results = fit_simple_linear_reg(df, 'price', predictor_cols1)\n",
    "print(predictor_cols1_results)"
   ]
  },
  {
   "cell_type": "markdown",
   "metadata": {},
   "source": [
    "In the earlier regression model, there were only six variables: const, bedrooms, bathrooms, sqft_living, floors, and waterfront. The model had an R-squared value of 0.456, which indicates that the independent variables explain about 45.6% of the variability in the dependent variable, price.\n",
    "\n",
    "In the second regression model, there were nine variables: const, sqft_living, bedrooms, bathrooms, sqft_lot, floors, sqft_above, yr_renovated, and waterfront. The model had an R-squared value of 0.464, which indicates that the independent variables explain about 46.4% of the variability in the dependent variable, price.\n",
    "\n",
    "Comparing the two models, the second model has a slightly higher R-squared value than the first model, indicating that it may be a slightly better fit for the data. The second model also includes three additional variables: sqft_lot, sqft_above, and yr_renovated.\n",
    "\n",
    "The coefficients of the independent variables in the second model also differ from those in the first model. For example, in the first model, the coefficient for sqft_living was 254.5901, while in the second model, it was 272.8535. Similarly, the coefficient for bedrooms was -4.645e+04 in the first model and -4.704e+04 in the second model.\n",
    "\n",
    "Overall, the second model appears to be a more complex model, including additional variables and potentially providing a slightly better fit to the data. However, it is important to consider the trade-offs of complexity in model selection, as well as the assumptions and limitations of the regression analysis."
   ]
  },
  {
   "cell_type": "markdown",
   "metadata": {},
   "source": [
    "Looking at the data, we can see that there might be multicollinearity issues between `sqft_living` and `sqft_above`, since both of these predictors are related to the size of the house. We can also see that there may be some correlation between `bathrooms` and `bedrooms`, as it's not uncommon for houses with more bedrooms to have more bathrooms as well.\n",
    "\n",
    "we will thus take our model and fine tune it with the best among the above and see if we will spot a difference. \n",
    "from the result we deduce that the columns that performed worst were `bedrooms`, `sqft_above` and `sqft_lot`. excluded below."
   ]
  },
  {
   "cell_type": "markdown",
   "metadata": {},
   "source": [
    "### Model Four"
   ]
  },
  {
   "cell_type": "code",
   "execution_count": null,
   "metadata": {},
   "outputs": [],
   "source": [
    "# Now our model will march same number of parameters as the first multimodel \n",
    "predictor_cols2 = [\"sqft_living\",\"bathrooms\",\"floors\",\"yr_renovated\", \"waterfront\", \"zipcode\"]\n",
    "predictor_cols2_results = fit_simple_linear_reg(df, 'price', predictor_cols2)\n",
    "print(predictor_cols2_results)"
   ]
  },
  {
   "cell_type": "markdown",
   "metadata": {},
   "source": [
    "The regression models presented here have different sets of predictors and slightly different R-squared values. The first model only includes the square footage of the living space (sqft_living) as a predictor, while the other models add other variables such as the number of bedrooms, bathrooms, floors, waterfront, and zipcode. The third model has a slightly higher R-squared value, indicating that it explains slightly more of the variance in house prices.\n",
    "\n",
    "The coefficients of the predictors in the second and third model show that the number of bedrooms has a negative effect on house prices, while the number of bathrooms, square footage of living space, and waterfront have positive effects. The effect of floors and zipcode on house prices is also significant.\n",
    "\n",
    "\n",
    "The second model includes six predictors: bedrooms, bathrooms, sqft_living, floors, waterfront, and zipcode. The results show that all predictors have a significant impact on house prices. The R-squared value of 0.456 indicates that the model explains 45.6% of the variance in house prices.\n",
    "\n",
    "The third model includes nine predictors: sqft_living, bedrooms, bathrooms, floors, waterfront, view, condition, grade, and zipcode. The results show that all predictors except view have a significant impact on house prices. The R-squared value of 0.464 indicates that the model explains 46.4% of the variance in house prices.\n",
    "\n",
    "Comparing the two models, we can see that the addition of three more predictors in the second model only slightly increased the R-squared value. This suggests that the impact of these additional predictors on house prices may not be as strong as the first six predictors. In addition removing the extra three made the model perform worse, suggesting there might have been multicollinearity after all in the third model. we can do a test to confirm our results. \n",
    "\n",
    "Overall, all models show that the square footage of the living space is a significant predictor of house prices, and as the living space of the house increases, so does the price. However, the third model provides a more nuanced picture by including additional variables that impact house prices. Although, it's difficult to interpret the magnitude of the effect without more information about the data."
   ]
  },
  {
   "cell_type": "markdown",
   "metadata": {},
   "source": [
    "### Plotting Residuals for multiple models"
   ]
  },
  {
   "cell_type": "markdown",
   "metadata": {},
   "source": [
    "#### Model Two"
   ]
  },
  {
   "cell_type": "code",
   "execution_count": null,
   "metadata": {},
   "outputs": [],
   "source": [
    "def plot_partial_residuals_all(results, predictor_cols):\n",
    "    fig, axs = plt.subplots(nrows=2, ncols=4, figsize=(16, 8), sharey=True)\n",
    "    axs = axs.flatten()\n",
    "\n",
    "    for i, col in enumerate(predictor_cols):\n",
    "        plot_partial_residuals(results, focus_exog=col, ax=axs[i])\n",
    "        axs[i].set_xlabel('Predictor')\n",
    "        axs[i].set_ylabel('Partial Residual')\n",
    "        axs[i].set_title(col)\n",
    "\n",
    "    plt.tight_layout()\n",
    "    plt.show()"
   ]
  },
  {
   "cell_type": "markdown",
   "metadata": {},
   "source": [
    "#### Model Three"
   ]
  },
  {
   "cell_type": "code",
   "execution_count": null,
   "metadata": {
    "scrolled": true
   },
   "outputs": [],
   "source": [
    "predictor_cols = ['bedrooms', 'bathrooms', 'sqft_living', 'floors', 'waterfront', 'zipcode']\n",
    "plot_partial_residuals_all(predictor_cols_results,predictor_cols )"
   ]
  },
  {
   "cell_type": "code",
   "execution_count": null,
   "metadata": {},
   "outputs": [],
   "source": [
    "# Plot partial residual plots\n",
    "# for predictor_cols1 = [\"sqft_living\", \"bedrooms\",\"bathrooms\",\n",
    "#\"sqft_lot\",\"floors\",\"sqft_above\",\"yr_renovated\", \"waterfront\", \"zipcode\"]\n",
    "fig, ax = plt.subplots(ncols=2, figsize=(14, 6))\n",
    "\n",
    "# Square foor living\n",
    "plot_partial_residuals(predictor_cols1_results, focus_exog=\"sqft_living\", ax=ax[0])\n",
    "ax[0].set_xlabel('Predictor')\n",
    "ax[0].set_ylabel('Partial Residual')\n",
    "\n",
    "# waterFront\n",
    "plot_partial_residuals(predictor_cols1_results, focus_exog=\"waterfront\", ax=ax[1])\n",
    "ax[1].set_xlabel('Predictor')\n",
    "ax[1].set_ylabel('Partial Residual');\n",
    "\n",
    "plt.tight_layout()\n",
    "plt.show()\n",
    "\n",
    "\n",
    "fig, ax2 = plt.subplots(ncols=2, figsize=(14, 6))\n",
    "\n",
    "# bedrooms \n",
    "plot_partial_residuals(predictor_cols1_results, focus_exog=\"bedrooms\", ax=ax2[0])\n",
    "ax2[0].set_xlabel('Predictor')\n",
    "ax2[0].set_ylabel('Partial Residual')\n",
    "\n",
    "# bathrooms\n",
    "plot_partial_residuals(predictor_cols1_results, focus_exog=\"bathrooms\", ax=ax2[1])\n",
    "ax2[1].set_xlabel('Predictor')\n",
    "ax2[1].set_ylabel('Partial Residual');\n",
    "\n",
    "plt.tight_layout()\n",
    "plt.show()\n",
    "\n",
    "fig, ax3 = plt.subplots(ncols=2, figsize=(14, 6))\n",
    "\n",
    "# floors \n",
    "plot_partial_residuals(predictor_cols1_results, focus_exog=\"floors\", ax=ax3[0])\n",
    "ax3[0].set_xlabel('Predictor')\n",
    "ax3[0].set_ylabel('Partial Residual')\n",
    "\n",
    "# yr_renovated\n",
    "plot_partial_residuals(predictor_cols1_results, focus_exog=\"yr_renovated\", ax=ax3[1])\n",
    "ax3[1].set_xlabel('Predictor')\n",
    "ax3[1].set_ylabel('Partial Residual');\n",
    "\n",
    "plt.tight_layout()\n",
    "plt.show()\n",
    "\n",
    "fig, ax4 = plt.subplots(ncols=3, figsize=(14, 6))\n",
    "\n",
    "# sqft_lot \n",
    "plot_partial_residuals(predictor_cols1_results, focus_exog=\"sqft_lot\", ax=ax4[0])\n",
    "ax4[0].set_xlabel('Predictor')\n",
    "ax4[0].set_ylabel('Partial Residual')\n",
    "\n",
    "# sqft_above\n",
    "plot_partial_residuals(predictor_cols1_results, focus_exog=\"sqft_above\", ax=ax4[1])\n",
    "ax4[1].set_xlabel('Predictor')\n",
    "ax4[1].set_ylabel('Partial Residual')\n",
    "\n",
    "# zipcode\n",
    "plot_partial_residuals(predictor_cols1_results, focus_exog=\"zipcode\", ax=ax4[1])\n",
    "ax4[1].set_xlabel('Predictor')\n",
    "ax4[1].set_ylabel('Partial Residual');\n",
    "\n",
    "plt.tight_layout()\n",
    "plt.show()"
   ]
  },
  {
   "cell_type": "markdown",
   "metadata": {},
   "source": [
    "### Model Four"
   ]
  },
  {
   "cell_type": "code",
   "execution_count": null,
   "metadata": {},
   "outputs": [],
   "source": [
    "predictor_cols2 = [\"sqft_living\",\"bathrooms\",\"floors\",\"yr_renovated\", \"waterfront\", \"zipcode\"]\n",
    "plot_partial_residuals_all(predictor_cols2_results,predictor_cols2 )"
   ]
  },
  {
   "cell_type": "markdown",
   "metadata": {},
   "source": [
    "### Plotting Fitted Values for Multiple Models"
   ]
  },
  {
   "cell_type": "code",
   "execution_count": null,
   "metadata": {
    "scrolled": false
   },
   "outputs": [],
   "source": [
    "\n",
    "def plot_fitted_values_all(results, predictor_cols):\n",
    "    \"\"\"\n",
    "    Plots the fitted values for all predictor variables against their observed values.\n",
    "\n",
    "    Parameters:\n",
    "    results (OLSRegressionResults): the results of a fitted linear regression model\n",
    "    predictor_cols (list of str): the names of the predictor columns\n",
    "\n",
    "    Returns:\n",
    "    None\n",
    "    \"\"\"\n",
    "    fig, axs = plt.subplots(len(predictor_cols), 1, figsize=(8, 3*len(predictor_cols)), sharex=False)\n",
    "\n",
    "    for i, col in enumerate(predictor_cols):\n",
    "        axs[i].scatter(results.model.exog[:, i+1], results.fittedvalues, alpha=0.5)\n",
    "        axs[i].set_xlabel(col)\n",
    "        axs[i].set_ylabel('Fitted Value')\n",
    "\n",
    "    plt.tight_layout()\n",
    "    plt.show()"
   ]
  },
  {
   "cell_type": "markdown",
   "metadata": {},
   "source": [
    "#### Model Two"
   ]
  },
  {
   "cell_type": "code",
   "execution_count": null,
   "metadata": {},
   "outputs": [],
   "source": [
    "predictor_cols = ['bedrooms', 'bathrooms', 'sqft_living', 'floors', 'waterfront', 'zipcode']\n",
    "predictor_cols_results\n",
    "plot_fitted_values_all(predictor_cols_results, predictor_cols)"
   ]
  },
  {
   "cell_type": "markdown",
   "metadata": {},
   "source": [
    "#### Model Three"
   ]
  },
  {
   "cell_type": "code",
   "execution_count": null,
   "metadata": {
    "scrolled": false
   },
   "outputs": [],
   "source": [
    "predictor_cols1 = [\"sqft_living\", \"bedrooms\",\"bathrooms\",\"sqft_lot\",\"floors\",\"sqft_above\",\"yr_renovated\", \"waterfront\", \"zipcode\"]\n",
    "predictor_cols1_results\n",
    "plot_fitted_values_all(predictor_cols1_results, predictor_cols1)"
   ]
  },
  {
   "cell_type": "markdown",
   "metadata": {},
   "source": [
    "#### Model Four"
   ]
  },
  {
   "cell_type": "code",
   "execution_count": null,
   "metadata": {},
   "outputs": [],
   "source": [
    "# Extracting the fit\n",
    "plot_fit = predictor_cols2_results.fittedvalues\n",
    "\n",
    "# Plotting the fitted values\n",
    "fig, axs = plt.subplots(ncols=len(predictor_cols2), figsize=(20, 4))\n",
    "\n",
    "for i, col in enumerate(predictor_cols2):\n",
    "    axs[i].scatter(df[col], plot_fit, alpha=0.5)\n",
    "    axs[i].set_xlabel(col)\n",
    "    axs[i].set_ylabel('Fitted Value')\n",
    "\n",
    "plt.tight_layout()\n",
    "plt.show()"
   ]
  },
  {
   "cell_type": "code",
   "execution_count": null,
   "metadata": {},
   "outputs": [],
   "source": []
  },
  {
   "cell_type": "code",
   "execution_count": null,
   "metadata": {},
   "outputs": [],
   "source": []
  },
  {
   "cell_type": "code",
   "execution_count": null,
   "metadata": {},
   "outputs": [],
   "source": []
  },
  {
   "cell_type": "markdown",
   "metadata": {},
   "source": [
    "## Model Valuation"
   ]
  },
  {
   "cell_type": "code",
   "execution_count": null,
   "metadata": {},
   "outputs": [],
   "source": [
    "## rmse ## metrics?\n"
   ]
  },
  {
   "cell_type": "markdown",
   "metadata": {},
   "source": []
  },
  {
   "cell_type": "markdown",
   "metadata": {},
   "source": []
  },
  {
   "cell_type": "markdown",
   "metadata": {},
   "source": []
  },
  {
   "cell_type": "markdown",
   "metadata": {},
   "source": []
  }
 ],
 "metadata": {
  "kernelspec": {
   "display_name": "Python 3 (ipykernel)",
   "language": "python",
   "name": "python3"
  },
  "language_info": {
   "codemirror_mode": {
    "name": "ipython",
    "version": 3
   },
   "file_extension": ".py",
   "mimetype": "text/x-python",
   "name": "python",
   "nbconvert_exporter": "python",
   "pygments_lexer": "ipython3",
   "version": "3.9.7"
  }
 },
 "nbformat": 4,
 "nbformat_minor": 4
}
